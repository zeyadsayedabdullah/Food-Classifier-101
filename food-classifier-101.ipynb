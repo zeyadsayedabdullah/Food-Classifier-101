{
 "cells": [
  {
   "cell_type": "markdown",
   "id": "c318f019",
   "metadata": {
    "id": "oGSrEij6Odul",
    "papermill": {
     "duration": 0.021813,
     "end_time": "2024-07-11T17:53:29.021521",
     "exception": false,
     "start_time": "2024-07-11T17:53:28.999708",
     "status": "completed"
    },
    "tags": []
   },
   "source": [
    "# 1 Getting Setup"
   ]
  },
  {
   "cell_type": "code",
   "execution_count": 1,
   "id": "bb582bba",
   "metadata": {
    "execution": {
     "iopub.execute_input": "2024-07-11T17:53:29.065741Z",
     "iopub.status.busy": "2024-07-11T17:53:29.064791Z",
     "iopub.status.idle": "2024-07-11T17:54:03.564193Z",
     "shell.execute_reply": "2024-07-11T17:54:03.563071Z"
    },
    "id": "Z1iDZblwOB2n",
    "outputId": "800c0638-b3ea-424f-be3b-9f06cd9b22dc",
    "papermill": {
     "duration": 34.524621,
     "end_time": "2024-07-11T17:54:03.566889",
     "exception": false,
     "start_time": "2024-07-11T17:53:29.042268",
     "status": "completed"
    },
    "tags": []
   },
   "outputs": [
    {
     "name": "stdout",
     "output_type": "stream",
     "text": [
      "Collecting gradio\r\n",
      "  Downloading gradio-4.37.2-py3-none-any.whl.metadata (15 kB)\r\n",
      "Requirement already satisfied: aiofiles<24.0,>=22.0 in /opt/conda/lib/python3.10/site-packages (from gradio) (22.1.0)\r\n",
      "Requirement already satisfied: altair<6.0,>=4.2.0 in /opt/conda/lib/python3.10/site-packages (from gradio) (5.3.0)\r\n",
      "Requirement already satisfied: fastapi in /opt/conda/lib/python3.10/site-packages (from gradio) (0.108.0)\r\n",
      "Collecting ffmpy (from gradio)\r\n",
      "  Downloading ffmpy-0.3.2.tar.gz (5.5 kB)\r\n",
      "  Preparing metadata (setup.py) ... \u001b[?25l-\b \bdone\r\n",
      "\u001b[?25hCollecting gradio-client==1.0.2 (from gradio)\r\n",
      "  Downloading gradio_client-1.0.2-py3-none-any.whl.metadata (7.1 kB)\r\n",
      "Requirement already satisfied: httpx>=0.24.1 in /opt/conda/lib/python3.10/site-packages (from gradio) (0.27.0)\r\n",
      "Requirement already satisfied: huggingface-hub>=0.19.3 in /opt/conda/lib/python3.10/site-packages (from gradio) (0.23.4)\r\n",
      "Requirement already satisfied: importlib-resources<7.0,>=1.3 in /opt/conda/lib/python3.10/site-packages (from gradio) (6.1.1)\r\n",
      "Requirement already satisfied: jinja2<4.0 in /opt/conda/lib/python3.10/site-packages (from gradio) (3.1.2)\r\n",
      "Requirement already satisfied: markupsafe~=2.0 in /opt/conda/lib/python3.10/site-packages (from gradio) (2.1.3)\r\n",
      "Requirement already satisfied: matplotlib~=3.0 in /opt/conda/lib/python3.10/site-packages (from gradio) (3.7.5)\r\n",
      "Requirement already satisfied: numpy<3.0,>=1.0 in /opt/conda/lib/python3.10/site-packages (from gradio) (1.26.4)\r\n",
      "Requirement already satisfied: orjson~=3.0 in /opt/conda/lib/python3.10/site-packages (from gradio) (3.9.10)\r\n",
      "Requirement already satisfied: packaging in /opt/conda/lib/python3.10/site-packages (from gradio) (21.3)\r\n",
      "Requirement already satisfied: pandas<3.0,>=1.0 in /opt/conda/lib/python3.10/site-packages (from gradio) (2.2.2)\r\n",
      "Requirement already satisfied: pillow<11.0,>=8.0 in /opt/conda/lib/python3.10/site-packages (from gradio) (9.5.0)\r\n",
      "Requirement already satisfied: pydantic>=2.0 in /opt/conda/lib/python3.10/site-packages (from gradio) (2.5.3)\r\n",
      "Requirement already satisfied: pydub in /opt/conda/lib/python3.10/site-packages (from gradio) (0.25.1)\r\n",
      "Collecting python-multipart>=0.0.9 (from gradio)\r\n",
      "  Downloading python_multipart-0.0.9-py3-none-any.whl.metadata (2.5 kB)\r\n",
      "Requirement already satisfied: pyyaml<7.0,>=5.0 in /opt/conda/lib/python3.10/site-packages (from gradio) (6.0.1)\r\n",
      "Collecting ruff>=0.2.2 (from gradio)\r\n",
      "  Downloading ruff-0.5.1-py3-none-manylinux_2_17_x86_64.manylinux2014_x86_64.whl.metadata (24 kB)\r\n",
      "Collecting semantic-version~=2.0 (from gradio)\r\n",
      "  Downloading semantic_version-2.10.0-py2.py3-none-any.whl.metadata (9.7 kB)\r\n",
      "Collecting tomlkit==0.12.0 (from gradio)\r\n",
      "  Downloading tomlkit-0.12.0-py3-none-any.whl.metadata (2.7 kB)\r\n",
      "Requirement already satisfied: typer<1.0,>=0.12 in /opt/conda/lib/python3.10/site-packages (from gradio) (0.12.3)\r\n",
      "Requirement already satisfied: typing-extensions~=4.0 in /opt/conda/lib/python3.10/site-packages (from gradio) (4.9.0)\r\n",
      "Collecting urllib3~=2.0 (from gradio)\r\n",
      "  Downloading urllib3-2.2.2-py3-none-any.whl.metadata (6.4 kB)\r\n",
      "Requirement already satisfied: uvicorn>=0.14.0 in /opt/conda/lib/python3.10/site-packages (from gradio) (0.25.0)\r\n",
      "Requirement already satisfied: fsspec in /opt/conda/lib/python3.10/site-packages (from gradio-client==1.0.2->gradio) (2024.5.0)\r\n",
      "Collecting websockets<12.0,>=10.0 (from gradio-client==1.0.2->gradio)\r\n",
      "  Downloading websockets-11.0.3-cp310-cp310-manylinux_2_5_x86_64.manylinux1_x86_64.manylinux_2_17_x86_64.manylinux2014_x86_64.whl.metadata (6.6 kB)\r\n",
      "Requirement already satisfied: jsonschema>=3.0 in /opt/conda/lib/python3.10/site-packages (from altair<6.0,>=4.2.0->gradio) (4.20.0)\r\n",
      "Requirement already satisfied: toolz in /opt/conda/lib/python3.10/site-packages (from altair<6.0,>=4.2.0->gradio) (0.12.1)\r\n",
      "Requirement already satisfied: anyio in /opt/conda/lib/python3.10/site-packages (from httpx>=0.24.1->gradio) (4.2.0)\r\n",
      "Requirement already satisfied: certifi in /opt/conda/lib/python3.10/site-packages (from httpx>=0.24.1->gradio) (2024.7.4)\r\n",
      "Requirement already satisfied: httpcore==1.* in /opt/conda/lib/python3.10/site-packages (from httpx>=0.24.1->gradio) (1.0.5)\r\n",
      "Requirement already satisfied: idna in /opt/conda/lib/python3.10/site-packages (from httpx>=0.24.1->gradio) (3.6)\r\n",
      "Requirement already satisfied: sniffio in /opt/conda/lib/python3.10/site-packages (from httpx>=0.24.1->gradio) (1.3.0)\r\n",
      "Requirement already satisfied: h11<0.15,>=0.13 in /opt/conda/lib/python3.10/site-packages (from httpcore==1.*->httpx>=0.24.1->gradio) (0.14.0)\r\n",
      "Requirement already satisfied: filelock in /opt/conda/lib/python3.10/site-packages (from huggingface-hub>=0.19.3->gradio) (3.13.1)\r\n",
      "Requirement already satisfied: requests in /opt/conda/lib/python3.10/site-packages (from huggingface-hub>=0.19.3->gradio) (2.32.3)\r\n",
      "Requirement already satisfied: tqdm>=4.42.1 in /opt/conda/lib/python3.10/site-packages (from huggingface-hub>=0.19.3->gradio) (4.66.4)\r\n",
      "Requirement already satisfied: contourpy>=1.0.1 in /opt/conda/lib/python3.10/site-packages (from matplotlib~=3.0->gradio) (1.2.0)\r\n",
      "Requirement already satisfied: cycler>=0.10 in /opt/conda/lib/python3.10/site-packages (from matplotlib~=3.0->gradio) (0.12.1)\r\n",
      "Requirement already satisfied: fonttools>=4.22.0 in /opt/conda/lib/python3.10/site-packages (from matplotlib~=3.0->gradio) (4.47.0)\r\n",
      "Requirement already satisfied: kiwisolver>=1.0.1 in /opt/conda/lib/python3.10/site-packages (from matplotlib~=3.0->gradio) (1.4.5)\r\n",
      "Requirement already satisfied: pyparsing>=2.3.1 in /opt/conda/lib/python3.10/site-packages (from matplotlib~=3.0->gradio) (3.1.1)\r\n",
      "Requirement already satisfied: python-dateutil>=2.7 in /opt/conda/lib/python3.10/site-packages (from matplotlib~=3.0->gradio) (2.9.0.post0)\r\n",
      "Requirement already satisfied: pytz>=2020.1 in /opt/conda/lib/python3.10/site-packages (from pandas<3.0,>=1.0->gradio) (2023.3.post1)\r\n",
      "Requirement already satisfied: tzdata>=2022.7 in /opt/conda/lib/python3.10/site-packages (from pandas<3.0,>=1.0->gradio) (2023.4)\r\n",
      "Requirement already satisfied: annotated-types>=0.4.0 in /opt/conda/lib/python3.10/site-packages (from pydantic>=2.0->gradio) (0.6.0)\r\n",
      "Requirement already satisfied: pydantic-core==2.14.6 in /opt/conda/lib/python3.10/site-packages (from pydantic>=2.0->gradio) (2.14.6)\r\n",
      "Requirement already satisfied: click>=8.0.0 in /opt/conda/lib/python3.10/site-packages (from typer<1.0,>=0.12->gradio) (8.1.7)\r\n",
      "Requirement already satisfied: shellingham>=1.3.0 in /opt/conda/lib/python3.10/site-packages (from typer<1.0,>=0.12->gradio) (1.5.4)\r\n",
      "Requirement already satisfied: rich>=10.11.0 in /opt/conda/lib/python3.10/site-packages (from typer<1.0,>=0.12->gradio) (13.7.0)\r\n",
      "Requirement already satisfied: starlette<0.33.0,>=0.29.0 in /opt/conda/lib/python3.10/site-packages (from fastapi->gradio) (0.32.0.post1)\r\n",
      "Requirement already satisfied: attrs>=22.2.0 in /opt/conda/lib/python3.10/site-packages (from jsonschema>=3.0->altair<6.0,>=4.2.0->gradio) (23.2.0)\r\n",
      "Requirement already satisfied: jsonschema-specifications>=2023.03.6 in /opt/conda/lib/python3.10/site-packages (from jsonschema>=3.0->altair<6.0,>=4.2.0->gradio) (2023.12.1)\r\n",
      "Requirement already satisfied: referencing>=0.28.4 in /opt/conda/lib/python3.10/site-packages (from jsonschema>=3.0->altair<6.0,>=4.2.0->gradio) (0.32.1)\r\n",
      "Requirement already satisfied: rpds-py>=0.7.1 in /opt/conda/lib/python3.10/site-packages (from jsonschema>=3.0->altair<6.0,>=4.2.0->gradio) (0.16.2)\r\n",
      "Requirement already satisfied: six>=1.5 in /opt/conda/lib/python3.10/site-packages (from python-dateutil>=2.7->matplotlib~=3.0->gradio) (1.16.0)\r\n",
      "Requirement already satisfied: markdown-it-py>=2.2.0 in /opt/conda/lib/python3.10/site-packages (from rich>=10.11.0->typer<1.0,>=0.12->gradio) (3.0.0)\r\n",
      "Requirement already satisfied: pygments<3.0.0,>=2.13.0 in /opt/conda/lib/python3.10/site-packages (from rich>=10.11.0->typer<1.0,>=0.12->gradio) (2.17.2)\r\n",
      "Requirement already satisfied: exceptiongroup>=1.0.2 in /opt/conda/lib/python3.10/site-packages (from anyio->httpx>=0.24.1->gradio) (1.2.0)\r\n",
      "Requirement already satisfied: charset-normalizer<4,>=2 in /opt/conda/lib/python3.10/site-packages (from requests->huggingface-hub>=0.19.3->gradio) (3.3.2)\r\n",
      "Requirement already satisfied: mdurl~=0.1 in /opt/conda/lib/python3.10/site-packages (from markdown-it-py>=2.2.0->rich>=10.11.0->typer<1.0,>=0.12->gradio) (0.1.2)\r\n",
      "Downloading gradio-4.37.2-py3-none-any.whl (12.3 MB)\r\n",
      "\u001b[2K   \u001b[90m━━━━━━━━━━━━━━━━━━━━━━━━━━━━━━━━━━━━━━━━\u001b[0m \u001b[32m12.3/12.3 MB\u001b[0m \u001b[31m74.5 MB/s\u001b[0m eta \u001b[36m0:00:00\u001b[0m\r\n",
      "\u001b[?25hDownloading gradio_client-1.0.2-py3-none-any.whl (318 kB)\r\n",
      "\u001b[2K   \u001b[90m━━━━━━━━━━━━━━━━━━━━━━━━━━━━━━━━━━━━━━━━\u001b[0m \u001b[32m318.2/318.2 kB\u001b[0m \u001b[31m15.4 MB/s\u001b[0m eta \u001b[36m0:00:00\u001b[0m\r\n",
      "\u001b[?25hDownloading tomlkit-0.12.0-py3-none-any.whl (37 kB)\r\n",
      "Downloading python_multipart-0.0.9-py3-none-any.whl (22 kB)\r\n",
      "Downloading ruff-0.5.1-py3-none-manylinux_2_17_x86_64.manylinux2014_x86_64.whl (10.1 MB)\r\n",
      "\u001b[2K   \u001b[90m━━━━━━━━━━━━━━━━━━━━━━━━━━━━━━━━━━━━━━━━\u001b[0m \u001b[32m10.1/10.1 MB\u001b[0m \u001b[31m86.7 MB/s\u001b[0m eta \u001b[36m0:00:00\u001b[0m\r\n",
      "\u001b[?25hDownloading semantic_version-2.10.0-py2.py3-none-any.whl (15 kB)\r\n",
      "Downloading urllib3-2.2.2-py3-none-any.whl (121 kB)\r\n",
      "\u001b[2K   \u001b[90m━━━━━━━━━━━━━━━━━━━━━━━━━━━━━━━━━━━━━━━━\u001b[0m \u001b[32m121.4/121.4 kB\u001b[0m \u001b[31m7.3 MB/s\u001b[0m eta \u001b[36m0:00:00\u001b[0m\r\n",
      "\u001b[?25hDownloading websockets-11.0.3-cp310-cp310-manylinux_2_5_x86_64.manylinux1_x86_64.manylinux_2_17_x86_64.manylinux2014_x86_64.whl (129 kB)\r\n",
      "\u001b[2K   \u001b[90m━━━━━━━━━━━━━━━━━━━━━━━━━━━━━━━━━━━━━━━━\u001b[0m \u001b[32m129.9/129.9 kB\u001b[0m \u001b[31m8.5 MB/s\u001b[0m eta \u001b[36m0:00:00\u001b[0m\r\n",
      "\u001b[?25hBuilding wheels for collected packages: ffmpy\r\n",
      "  Building wheel for ffmpy (setup.py) ... \u001b[?25l-\b \b\\\b \bdone\r\n",
      "\u001b[?25h  Created wheel for ffmpy: filename=ffmpy-0.3.2-py3-none-any.whl size=5584 sha256=bdc6d566e758eea01362bff3069f0f9905aa4fd7e86ca19f58342fb024e88214\r\n",
      "  Stored in directory: /root/.cache/pip/wheels/bd/65/9a/671fc6dcde07d4418df0c592f8df512b26d7a0029c2a23dd81\r\n",
      "Successfully built ffmpy\r\n",
      "Installing collected packages: ffmpy, websockets, urllib3, tomlkit, semantic-version, ruff, python-multipart, gradio-client, gradio\r\n",
      "  Attempting uninstall: websockets\r\n",
      "    Found existing installation: websockets 12.0\r\n",
      "    Uninstalling websockets-12.0:\r\n",
      "      Successfully uninstalled websockets-12.0\r\n",
      "  Attempting uninstall: urllib3\r\n",
      "    Found existing installation: urllib3 1.26.18\r\n",
      "    Uninstalling urllib3-1.26.18:\r\n",
      "      Successfully uninstalled urllib3-1.26.18\r\n",
      "  Attempting uninstall: tomlkit\r\n",
      "    Found existing installation: tomlkit 0.12.5\r\n",
      "    Uninstalling tomlkit-0.12.5:\r\n",
      "      Successfully uninstalled tomlkit-0.12.5\r\n",
      "\u001b[31mERROR: pip's dependency resolver does not currently take into account all the packages that are installed. This behaviour is the source of the following dependency conflicts.\r\n",
      "tensorflow-decision-forests 1.8.1 requires wurlitzer, which is not installed.\r\n",
      "distributed 2024.5.1 requires dask==2024.5.1, but you have dask 2024.7.0 which is incompatible.\r\n",
      "kfp 2.5.0 requires google-cloud-storage<3,>=2.2.1, but you have google-cloud-storage 1.44.0 which is incompatible.\r\n",
      "kfp 2.5.0 requires urllib3<2.0.0, but you have urllib3 2.2.2 which is incompatible.\r\n",
      "rapids-dask-dependency 24.6.0a0 requires dask==2024.5.1, but you have dask 2024.7.0 which is incompatible.\r\n",
      "tensorflow 2.15.0 requires keras<2.16,>=2.15.0, but you have keras 3.4.1 which is incompatible.\r\n",
      "ydata-profiling 4.6.4 requires numpy<1.26,>=1.16.0, but you have numpy 1.26.4 which is incompatible.\u001b[0m\u001b[31m\r\n",
      "\u001b[0mSuccessfully installed ffmpy-0.3.2 gradio-4.37.2 gradio-client-1.0.2 python-multipart-0.0.9 ruff-0.5.1 semantic-version-2.10.0 tomlkit-0.12.0 urllib3-2.1.0 websockets-11.0.3\r\n"
     ]
    },
    {
     "data": {
      "text/plain": [
       "'cuda'"
      ]
     },
     "execution_count": 1,
     "metadata": {},
     "output_type": "execute_result"
    }
   ],
   "source": [
    "import matplotlib.pyplot as plt\n",
    "import pandas as pd\n",
    "import numpy as np\n",
    "import os\n",
    "import pathlib\n",
    "from pathlib import Path\n",
    "import shutil\n",
    "from PIL import Image\n",
    "from timeit import default_timer as timer\n",
    "from tqdm.auto import tqdm\n",
    "from typing import Dict, List, Tuple\n",
    "\n",
    "import random\n",
    "import torch\n",
    "import torchvision\n",
    "from torch import nn\n",
    "from torchvision import transforms\n",
    "from torch.utils.data import random_split\n",
    "\n",
    "try:\n",
    "    from torchinfo import summary\n",
    "except:\n",
    "    !pip install -q torchinfo\n",
    "    from torchinfo import summary\n",
    "\n",
    "try:\n",
    "    import gradio as gr\n",
    "except:\n",
    "    !pip install gradio\n",
    "    import gradio as gr\n",
    "    \n",
    "    \n",
    "    \n",
    "\n",
    "\n",
    "\n",
    "device = \"cuda\" if torch.cuda.is_available() else \"cpu\"\n",
    "device"
   ]
  },
  {
   "cell_type": "markdown",
   "id": "cde4f8f3",
   "metadata": {
    "papermill": {
     "duration": 0.025179,
     "end_time": "2024-07-11T17:54:03.617269",
     "exception": false,
     "start_time": "2024-07-11T17:54:03.592090",
     "status": "completed"
    },
    "tags": []
   },
   "source": [
    "Functions To Train Models Later"
   ]
  },
  {
   "cell_type": "code",
   "execution_count": 2,
   "id": "3ae3cdff",
   "metadata": {
    "execution": {
     "iopub.execute_input": "2024-07-11T17:54:03.670194Z",
     "iopub.status.busy": "2024-07-11T17:54:03.669528Z",
     "iopub.status.idle": "2024-07-11T17:54:03.686278Z",
     "shell.execute_reply": "2024-07-11T17:54:03.685192Z"
    },
    "papermill": {
     "duration": 0.045989,
     "end_time": "2024-07-11T17:54:03.688477",
     "exception": false,
     "start_time": "2024-07-11T17:54:03.642488",
     "status": "completed"
    },
    "tags": []
   },
   "outputs": [],
   "source": [
    "def train_step(model: torch.nn.Module, dataloader: torch.utils.data.DataLoader, \n",
    "               loss_fn: torch.nn.Module, optimizer: torch.optim.Optimizer, \n",
    "               device: torch.device) -> Tuple[float, float]:\n",
    "    model.train()\n",
    "    train_loss, train_acc = 0, 0\n",
    "    for X, y in dataloader:\n",
    "        X, y = X.to(device), y.to(device)\n",
    "        optimizer.zero_grad()\n",
    "        y_pred = model(X)\n",
    "        loss = loss_fn(y_pred, y)\n",
    "        loss.backward()\n",
    "        optimizer.step()\n",
    "        train_loss += loss.item()\n",
    "        train_acc += (y_pred.argmax(dim=1) == y).sum().item() / len(y_pred)\n",
    "    return train_loss / len(dataloader), train_acc / len(dataloader)\n",
    "\n",
    "def test_step(model: torch.nn.Module, dataloader: torch.utils.data.DataLoader, \n",
    "              loss_fn: torch.nn.Module, device: torch.device) -> Tuple[float, float]:\n",
    "    model.eval()\n",
    "    test_loss, test_acc = 0, 0\n",
    "    with torch.inference_mode():\n",
    "        for X, y in dataloader:\n",
    "            X, y = X.to(device), y.to(device)\n",
    "            y_pred = model(X)\n",
    "            test_loss += loss_fn(y_pred, y).item()\n",
    "            test_acc += (y_pred.argmax(dim=1) == y).sum().item() / len(y_pred)\n",
    "    return test_loss / len(dataloader), test_acc / len(dataloader)\n",
    "\n",
    "def train(model: torch.nn.Module, train_dataloader: torch.utils.data.DataLoader, \n",
    "          test_dataloader: torch.utils.data.DataLoader, optimizer: torch.optim.Optimizer, \n",
    "          loss_fn: torch.nn.Module, epochs: int, device: torch.device) -> Dict[str, List]:\n",
    "    results = {\"train_loss\": [], \"train_acc\": [], \"test_loss\": [], \"test_acc\": []}\n",
    "    model.to(device)\n",
    "    for epoch in tqdm(range(epochs)):\n",
    "        train_loss, train_acc = train_step(model, train_dataloader, loss_fn, optimizer, device)\n",
    "        test_loss, test_acc = test_step(model, test_dataloader, loss_fn, device)\n",
    "        results[\"train_loss\"].append(train_loss)\n",
    "        results[\"train_acc\"].append(train_acc)\n",
    "        results[\"test_loss\"].append(test_loss)\n",
    "        results[\"test_acc\"].append(test_acc)\n",
    "        print(f\"Epoch {epoch+1}: train_loss={train_loss:.4f}, train_acc={train_acc:.4f}, test_loss={test_loss:.4f}, test_acc={test_acc:.4f}\")\n",
    "    return results"
   ]
  },
  {
   "cell_type": "markdown",
   "id": "80dd01b8",
   "metadata": {
    "id": "T32yMf0wO0JZ",
    "papermill": {
     "duration": 0.024058,
     "end_time": "2024-07-11T17:54:03.737147",
     "exception": false,
     "start_time": "2024-07-11T17:54:03.713089",
     "status": "completed"
    },
    "tags": []
   },
   "source": [
    "# 2 Effnetb2 Model"
   ]
  },
  {
   "cell_type": "markdown",
   "id": "72460efd",
   "metadata": {
    "id": "_Ixp1O9qPCWo",
    "papermill": {
     "duration": 0.02382,
     "end_time": "2024-07-11T17:54:03.785269",
     "exception": false,
     "start_time": "2024-07-11T17:54:03.761449",
     "status": "completed"
    },
    "tags": []
   },
   "source": [
    "## 2.1\n",
    "Make a Function To Make Model And Freeze All Trainable Parameters Except Classifier Head"
   ]
  },
  {
   "cell_type": "code",
   "execution_count": 3,
   "id": "6ae025f9",
   "metadata": {
    "execution": {
     "iopub.execute_input": "2024-07-11T17:54:03.834600Z",
     "iopub.status.busy": "2024-07-11T17:54:03.834229Z",
     "iopub.status.idle": "2024-07-11T17:54:04.835748Z",
     "shell.execute_reply": "2024-07-11T17:54:04.834678Z"
    },
    "id": "IBqdLdm5PLP7",
    "outputId": "5b85654b-3352-4a6f-be07-e836d733ba00",
    "papermill": {
     "duration": 1.028865,
     "end_time": "2024-07-11T17:54:04.838109",
     "exception": false,
     "start_time": "2024-07-11T17:54:03.809244",
     "status": "completed"
    },
    "tags": []
   },
   "outputs": [
    {
     "name": "stderr",
     "output_type": "stream",
     "text": [
      "Downloading: \"https://download.pytorch.org/models/efficientnet_b2_rwightman-c35c1473.pth\" to /root/.cache/torch/hub/checkpoints/efficientnet_b2_rwightman-c35c1473.pth\n",
      "100%|██████████| 35.2M/35.2M [00:00<00:00, 110MB/s]\n"
     ]
    },
    {
     "data": {
      "text/plain": [
       "ImageClassification(\n",
       "    crop_size=[288]\n",
       "    resize_size=[288]\n",
       "    mean=[0.485, 0.456, 0.406]\n",
       "    std=[0.229, 0.224, 0.225]\n",
       "    interpolation=InterpolationMode.BICUBIC\n",
       ")"
      ]
     },
     "execution_count": 3,
     "metadata": {},
     "output_type": "execute_result"
    }
   ],
   "source": [
    "def create_effnetb2(num_classes: int = 101):\n",
    "  weights = torchvision.models.EfficientNet_B2_Weights.DEFAULT\n",
    "  transforms = weights.transforms()\n",
    "  model = torchvision.models.efficientnet_b2(weights=weights).to(device)\n",
    "\n",
    "  for params in model.parameters():\n",
    "    params.requires_grad = False\n",
    "\n",
    "  model.classifier = nn.Sequential(\n",
    "      nn.Dropout(p=0.2, inplace=True),\n",
    "      nn.Linear(in_features=1408, out_features=num_classes, bias=True))\n",
    "  return model,transforms\n",
    "\n",
    "effnetb2,effnetb2_transforms = create_effnetb2(num_classes=101)\n",
    "effnetb2_transforms"
   ]
  },
  {
   "cell_type": "code",
   "execution_count": 4,
   "id": "613ba3bd",
   "metadata": {
    "execution": {
     "iopub.execute_input": "2024-07-11T17:54:04.893526Z",
     "iopub.status.busy": "2024-07-11T17:54:04.892746Z",
     "iopub.status.idle": "2024-07-11T17:54:05.774987Z",
     "shell.execute_reply": "2024-07-11T17:54:05.774070Z"
    },
    "id": "fv_Kdt_7QA4I",
    "outputId": "2c52534a-3ad8-4f3a-fbda-ac4be904db48",
    "papermill": {
     "duration": 0.912448,
     "end_time": "2024-07-11T17:54:05.777487",
     "exception": false,
     "start_time": "2024-07-11T17:54:04.865039",
     "status": "completed"
    },
    "tags": []
   },
   "outputs": [
    {
     "data": {
      "text/plain": [
       "============================================================================================================================================\n",
       "Layer (type (var_name))                                      Input Shape          Output Shape         Param #              Trainable\n",
       "============================================================================================================================================\n",
       "EfficientNet (EfficientNet)                                  [1, 3, 224, 224]     [1, 101]             --                   Partial\n",
       "├─Sequential (features)                                      [1, 3, 224, 224]     [1, 1408, 7, 7]      --                   False\n",
       "│    └─Conv2dNormActivation (0)                              [1, 3, 224, 224]     [1, 32, 112, 112]    --                   False\n",
       "│    │    └─Conv2d (0)                                       [1, 3, 224, 224]     [1, 32, 112, 112]    (864)                False\n",
       "│    │    └─BatchNorm2d (1)                                  [1, 32, 112, 112]    [1, 32, 112, 112]    (64)                 False\n",
       "│    │    └─SiLU (2)                                         [1, 32, 112, 112]    [1, 32, 112, 112]    --                   --\n",
       "│    └─Sequential (1)                                        [1, 32, 112, 112]    [1, 16, 112, 112]    --                   False\n",
       "│    │    └─MBConv (0)                                       [1, 32, 112, 112]    [1, 16, 112, 112]    (1,448)              False\n",
       "│    │    └─MBConv (1)                                       [1, 16, 112, 112]    [1, 16, 112, 112]    (612)                False\n",
       "│    └─Sequential (2)                                        [1, 16, 112, 112]    [1, 24, 56, 56]      --                   False\n",
       "│    │    └─MBConv (0)                                       [1, 16, 112, 112]    [1, 24, 56, 56]      (6,004)              False\n",
       "│    │    └─MBConv (1)                                       [1, 24, 56, 56]      [1, 24, 56, 56]      (10,710)             False\n",
       "│    │    └─MBConv (2)                                       [1, 24, 56, 56]      [1, 24, 56, 56]      (10,710)             False\n",
       "│    └─Sequential (3)                                        [1, 24, 56, 56]      [1, 48, 28, 28]      --                   False\n",
       "│    │    └─MBConv (0)                                       [1, 24, 56, 56]      [1, 48, 28, 28]      (16,518)             False\n",
       "│    │    └─MBConv (1)                                       [1, 48, 28, 28]      [1, 48, 28, 28]      (43,308)             False\n",
       "│    │    └─MBConv (2)                                       [1, 48, 28, 28]      [1, 48, 28, 28]      (43,308)             False\n",
       "│    └─Sequential (4)                                        [1, 48, 28, 28]      [1, 88, 14, 14]      --                   False\n",
       "│    │    └─MBConv (0)                                       [1, 48, 28, 28]      [1, 88, 14, 14]      (50,300)             False\n",
       "│    │    └─MBConv (1)                                       [1, 88, 14, 14]      [1, 88, 14, 14]      (123,750)            False\n",
       "│    │    └─MBConv (2)                                       [1, 88, 14, 14]      [1, 88, 14, 14]      (123,750)            False\n",
       "│    │    └─MBConv (3)                                       [1, 88, 14, 14]      [1, 88, 14, 14]      (123,750)            False\n",
       "│    └─Sequential (5)                                        [1, 88, 14, 14]      [1, 120, 14, 14]     --                   False\n",
       "│    │    └─MBConv (0)                                       [1, 88, 14, 14]      [1, 120, 14, 14]     (149,158)            False\n",
       "│    │    └─MBConv (1)                                       [1, 120, 14, 14]     [1, 120, 14, 14]     (237,870)            False\n",
       "│    │    └─MBConv (2)                                       [1, 120, 14, 14]     [1, 120, 14, 14]     (237,870)            False\n",
       "│    │    └─MBConv (3)                                       [1, 120, 14, 14]     [1, 120, 14, 14]     (237,870)            False\n",
       "│    └─Sequential (6)                                        [1, 120, 14, 14]     [1, 208, 7, 7]       --                   False\n",
       "│    │    └─MBConv (0)                                       [1, 120, 14, 14]     [1, 208, 7, 7]       (301,406)            False\n",
       "│    │    └─MBConv (1)                                       [1, 208, 7, 7]       [1, 208, 7, 7]       (686,868)            False\n",
       "│    │    └─MBConv (2)                                       [1, 208, 7, 7]       [1, 208, 7, 7]       (686,868)            False\n",
       "│    │    └─MBConv (3)                                       [1, 208, 7, 7]       [1, 208, 7, 7]       (686,868)            False\n",
       "│    │    └─MBConv (4)                                       [1, 208, 7, 7]       [1, 208, 7, 7]       (686,868)            False\n",
       "│    └─Sequential (7)                                        [1, 208, 7, 7]       [1, 352, 7, 7]       --                   False\n",
       "│    │    └─MBConv (0)                                       [1, 208, 7, 7]       [1, 352, 7, 7]       (846,900)            False\n",
       "│    │    └─MBConv (1)                                       [1, 352, 7, 7]       [1, 352, 7, 7]       (1,888,920)          False\n",
       "│    └─Conv2dNormActivation (8)                              [1, 352, 7, 7]       [1, 1408, 7, 7]      --                   False\n",
       "│    │    └─Conv2d (0)                                       [1, 352, 7, 7]       [1, 1408, 7, 7]      (495,616)            False\n",
       "│    │    └─BatchNorm2d (1)                                  [1, 1408, 7, 7]      [1, 1408, 7, 7]      (2,816)              False\n",
       "│    │    └─SiLU (2)                                         [1, 1408, 7, 7]      [1, 1408, 7, 7]      --                   --\n",
       "├─AdaptiveAvgPool2d (avgpool)                                [1, 1408, 7, 7]      [1, 1408, 1, 1]      --                   --\n",
       "├─Sequential (classifier)                                    [1, 1408]            [1, 101]             --                   True\n",
       "│    └─Dropout (0)                                           [1, 1408]            [1, 1408]            --                   --\n",
       "│    └─Linear (1)                                            [1, 1408]            [1, 101]             142,309              True\n",
       "============================================================================================================================================\n",
       "Total params: 7,843,303\n",
       "Trainable params: 142,309\n",
       "Non-trainable params: 7,700,994\n",
       "Total mult-adds (M): 657.78\n",
       "============================================================================================================================================\n",
       "Input size (MB): 0.60\n",
       "Forward/backward pass size (MB): 156.80\n",
       "Params size (MB): 31.37\n",
       "Estimated Total Size (MB): 188.77\n",
       "============================================================================================================================================"
      ]
     },
     "execution_count": 4,
     "metadata": {},
     "output_type": "execute_result"
    }
   ],
   "source": [
    "summary(effnetb2, input_size=(1, 3, 224, 224),col_names=['input_size','output_size','num_params','trainable'],col_width=20,row_settings=['var_names'])"
   ]
  },
  {
   "cell_type": "markdown",
   "id": "ed901407",
   "metadata": {
    "id": "HNTSOjJyQRSW",
    "papermill": {
     "duration": 0.025867,
     "end_time": "2024-07-11T17:54:05.828969",
     "exception": false,
     "start_time": "2024-07-11T17:54:05.803102",
     "status": "completed"
    },
    "tags": []
   },
   "source": [
    "## 2.2\n",
    "Get The Data And Make A Data Loaders For Effnetb2 Model"
   ]
  },
  {
   "cell_type": "code",
   "execution_count": 5,
   "id": "423c8f4c",
   "metadata": {
    "execution": {
     "iopub.execute_input": "2024-07-11T17:54:05.884392Z",
     "iopub.status.busy": "2024-07-11T17:54:05.883699Z",
     "iopub.status.idle": "2024-07-11T17:57:44.643654Z",
     "shell.execute_reply": "2024-07-11T17:57:44.642537Z"
    },
    "id": "DSJTGmS-OfO9",
    "outputId": "76136a53-a1e2-4735-cf0e-52ef6780121f",
    "papermill": {
     "duration": 218.791602,
     "end_time": "2024-07-11T17:57:44.646473",
     "exception": false,
     "start_time": "2024-07-11T17:54:05.854871",
     "status": "completed"
    },
    "tags": []
   },
   "outputs": [
    {
     "name": "stdout",
     "output_type": "stream",
     "text": [
      "Downloading https://data.vision.ee.ethz.ch/cvl/food-101.tar.gz to data/food-101.tar.gz\n"
     ]
    },
    {
     "name": "stderr",
     "output_type": "stream",
     "text": [
      "100%|██████████| 4996278331/4996278331 [02:24<00:00, 34671261.03it/s]\n"
     ]
    },
    {
     "name": "stdout",
     "output_type": "stream",
     "text": [
      "Extracting data/food-101.tar.gz to data\n"
     ]
    }
   ],
   "source": [
    "# First We Will Make Data Augmentation Transform for Training Data To Eliminate Overfitting\n",
    "train_transforms_effnetb2 = torchvision.transforms.Compose([ torchvision.transforms.TrivialAugmentWide(),\n",
    "                                             effnetb2_transforms])\n",
    "# We Will Load Food101 Dataset Using Pytorch\n",
    "train_data_effnetb2 = torchvision.datasets.Food101(root=\"data\", # Passing Root Directory\n",
    "                             split='train', # Passing Train Split\n",
    "                             transform=train_transforms_effnetb2, # Passing Train Transform\n",
    "                             download=True)\n",
    "\n",
    "\n",
    "test_data_effnetb2 = torchvision.datasets.Food101(root=\"data\", # Passing Root Directory\n",
    "                             split='test', # Passing Test Split\n",
    "                             transform=effnetb2_transforms, # Passing Test Normal Transform\n",
    "                             download=True)"
   ]
  },
  {
   "cell_type": "code",
   "execution_count": 6,
   "id": "fe1526d1",
   "metadata": {
    "execution": {
     "iopub.execute_input": "2024-07-11T17:57:44.930988Z",
     "iopub.status.busy": "2024-07-11T17:57:44.930608Z",
     "iopub.status.idle": "2024-07-11T17:57:44.937741Z",
     "shell.execute_reply": "2024-07-11T17:57:44.936870Z"
    },
    "id": "EpfpKgK1RYOP",
    "outputId": "25e52756-dc68-4671-d6aa-178c7e6e5c91",
    "papermill": {
     "duration": 0.152049,
     "end_time": "2024-07-11T17:57:44.939848",
     "exception": false,
     "start_time": "2024-07-11T17:57:44.787799",
     "status": "completed"
    },
    "tags": []
   },
   "outputs": [
    {
     "data": {
      "text/plain": [
       "['apple_pie',\n",
       " 'baby_back_ribs',\n",
       " 'baklava',\n",
       " 'beef_carpaccio',\n",
       " 'beef_tartare',\n",
       " 'beet_salad',\n",
       " 'beignets',\n",
       " 'bibimbap',\n",
       " 'bread_pudding',\n",
       " 'breakfast_burrito']"
      ]
     },
     "execution_count": 6,
     "metadata": {},
     "output_type": "execute_result"
    }
   ],
   "source": [
    "# Print First 10 Classes Names\n",
    "class_names = train_data_effnetb2.classes\n",
    "class_names[:10]"
   ]
  },
  {
   "cell_type": "code",
   "execution_count": 7,
   "id": "fbd9ed86",
   "metadata": {
    "execution": {
     "iopub.execute_input": "2024-07-11T17:57:45.225005Z",
     "iopub.status.busy": "2024-07-11T17:57:45.224633Z",
     "iopub.status.idle": "2024-07-11T17:57:45.246488Z",
     "shell.execute_reply": "2024-07-11T17:57:45.245139Z"
    },
    "id": "BgmtiW5dRrlc",
    "outputId": "6d6aabeb-7f85-4aa9-c911-8dd2a9d60356",
    "papermill": {
     "duration": 0.167226,
     "end_time": "2024-07-11T17:57:45.248889",
     "exception": false,
     "start_time": "2024-07-11T17:57:45.081663",
     "status": "completed"
    },
    "tags": []
   },
   "outputs": [
    {
     "name": "stdout",
     "output_type": "stream",
     "text": [
      "[INFO] Splitting dataset of length 75750 into splits of size: 15150 (20%), 60600 (80%)\n",
      "[INFO] Splitting dataset of length 25250 into splits of size: 5050 (20%), 20200 (80%)\n"
     ]
    }
   ],
   "source": [
    "# Create a function to use only a part of the dataset\n",
    "# We will train the model on only 20% of the data to reduce computational costs\n",
    "def split_dataset(dataset,split_size:float=.2):\n",
    "  length_1 = int(len(dataset)*split_size)\n",
    "  length_2 = int(len(dataset)-length_1)\n",
    "\n",
    "  print(f\"[INFO] Splitting dataset of length {len(dataset)} into splits of size: {length_1} ({int(split_size*100)}%), {length_2} ({int((1-split_size)*100)}%)\")\n",
    "\n",
    "  random_split_1, random_split_2 = torch.utils.data.random_split(dataset,\n",
    "                                                                   lengths=[length_1, length_2])\n",
    "  return random_split_1, random_split_2\n",
    "\n",
    "train_data_effnetb2_20_percent,_ = split_dataset(dataset=train_data_effnetb2,split_size=.2)\n",
    "test_data_effnetb2_20_percent,_ = split_dataset(dataset=test_data_effnetb2,split_size=.2)"
   ]
  },
  {
   "cell_type": "code",
   "execution_count": 8,
   "id": "3854f6d6",
   "metadata": {
    "execution": {
     "iopub.execute_input": "2024-07-11T17:57:45.541640Z",
     "iopub.status.busy": "2024-07-11T17:57:45.540933Z",
     "iopub.status.idle": "2024-07-11T17:57:45.547696Z",
     "shell.execute_reply": "2024-07-11T17:57:45.546663Z"
    },
    "id": "-9V_qy_iS6EP",
    "papermill": {
     "duration": 0.152653,
     "end_time": "2024-07-11T17:57:45.549714",
     "exception": false,
     "start_time": "2024-07-11T17:57:45.397061",
     "status": "completed"
    },
    "tags": []
   },
   "outputs": [],
   "source": [
    "# Create The Data Loader\n",
    "batch_size = 32 # We Will Keep Constant Batch Size 32 In The Whole Notebook\n",
    "num_workers=os.cpu_count() # Num Workers Equal Two\n",
    "\n",
    "train_dataloader_effnetb2_20_percent = torch.utils.data.DataLoader(dataset=train_data_effnetb2_20_percent,\n",
    "                                                                   batch_size=batch_size,\n",
    "                                                                   shuffle=True,\n",
    "                                                                   num_workers=num_workers\n",
    "                                                                   )\n",
    "\n",
    "\n",
    "test_dataloader_effnetb2_20_percent = torch.utils.data.DataLoader(dataset=test_data_effnetb2_20_percent,\n",
    "                                                                 batch_size=batch_size,\n",
    "                                                                 shuffle=False,\n",
    "                                                                 num_workers=num_workers)"
   ]
  },
  {
   "cell_type": "markdown",
   "id": "619bcf79",
   "metadata": {
    "id": "YBJflgg2T8yk",
    "papermill": {
     "duration": 0.193658,
     "end_time": "2024-07-11T17:57:45.893048",
     "exception": false,
     "start_time": "2024-07-11T17:57:45.699390",
     "status": "completed"
    },
    "tags": []
   },
   "source": [
    "## 2.3 Train Effnetb2 Model\n",
    "\n"
   ]
  },
  {
   "cell_type": "code",
   "execution_count": 9,
   "id": "7b73b059",
   "metadata": {
    "execution": {
     "iopub.execute_input": "2024-07-11T17:57:46.280110Z",
     "iopub.status.busy": "2024-07-11T17:57:46.279526Z",
     "iopub.status.idle": "2024-07-11T18:14:23.374814Z",
     "shell.execute_reply": "2024-07-11T18:14:23.373532Z"
    },
    "id": "m9H-movLTzcX",
    "outputId": "93865fc1-118f-4b4d-a930-d221942f386d",
    "papermill": {
     "duration": 997.432489,
     "end_time": "2024-07-11T18:14:23.516766",
     "exception": false,
     "start_time": "2024-07-11T17:57:46.084277",
     "status": "completed"
    },
    "tags": []
   },
   "outputs": [
    {
     "data": {
      "application/vnd.jupyter.widget-view+json": {
       "model_id": "08e4920840e849528363304355360457",
       "version_major": 2,
       "version_minor": 0
      },
      "text/plain": [
       "  0%|          | 0/10 [00:00<?, ?it/s]"
      ]
     },
     "metadata": {},
     "output_type": "display_data"
    },
    {
     "name": "stdout",
     "output_type": "stream",
     "text": [
      "Epoch 1: train_loss=3.6045, train_acc=0.2867, test_loss=2.7236, test_acc=0.5099\n",
      "Epoch 2: train_loss=2.8199, train_acc=0.4532, test_loss=2.4193, test_acc=0.5577\n",
      "Epoch 3: train_loss=2.5969, train_acc=0.4975, test_loss=2.3236, test_acc=0.5739\n",
      "Epoch 4: train_loss=2.4914, train_acc=0.5300, test_loss=2.2577, test_acc=0.5891\n",
      "Epoch 5: train_loss=2.4436, train_acc=0.5351, test_loss=2.2473, test_acc=0.5953\n",
      "Epoch 6: train_loss=2.3770, train_acc=0.5544, test_loss=2.2250, test_acc=0.5982\n",
      "Epoch 7: train_loss=2.3430, train_acc=0.5678, test_loss=2.2174, test_acc=0.6008\n",
      "Epoch 8: train_loss=2.3199, train_acc=0.5734, test_loss=2.2342, test_acc=0.5894\n",
      "Epoch 9: train_loss=2.2680, train_acc=0.5879, test_loss=2.2034, test_acc=0.6065\n",
      "Epoch 10: train_loss=2.2752, train_acc=0.5857, test_loss=2.2125, test_acc=0.6033\n"
     ]
    }
   ],
   "source": [
    "loss = torch.nn.CrossEntropyLoss(label_smoothing=0.1) # Label Smoothing Is Regularization To Reduce Overfitting\n",
    "optimizer = torch.optim.Adam(params=effnetb2.parameters(),lr=0.001)\n",
    "\n",
    "effnetb2_results = train(model=effnetb2,train_dataloader=train_dataloader_effnetb2_20_percent,test_dataloader=test_dataloader_effnetb2_20_percent,optimizer=optimizer,loss_fn=loss,device=device,epochs=10)"
   ]
  },
  {
   "cell_type": "markdown",
   "id": "094eb4c4",
   "metadata": {
    "papermill": {
     "duration": 0.133887,
     "end_time": "2024-07-11T18:14:23.784429",
     "exception": false,
     "start_time": "2024-07-11T18:14:23.650542",
     "status": "completed"
    },
    "tags": []
   },
   "source": [
    "The model achieves an accuracy of aprox 0.6, which may seem low at first glance. However, it's important to note that the model is classifying among 101 different classes, which presents a significant challenge in accuracy evaluation knowing that the basline accuracy it 0.01(random classification accuracy)"
   ]
  },
  {
   "cell_type": "markdown",
   "id": "b1f6d446",
   "metadata": {
    "id": "9RfgObYPXcBH",
    "papermill": {
     "duration": 0.13829,
     "end_time": "2024-07-11T18:14:24.107036",
     "exception": false,
     "start_time": "2024-07-11T18:14:23.968746",
     "status": "completed"
    },
    "tags": []
   },
   "source": [
    "## 2.4 Evaluate Effnetb2"
   ]
  },
  {
   "cell_type": "code",
   "execution_count": 10,
   "id": "37b7fa5f",
   "metadata": {
    "execution": {
     "iopub.execute_input": "2024-07-11T18:14:24.382145Z",
     "iopub.status.busy": "2024-07-11T18:14:24.381743Z",
     "iopub.status.idle": "2024-07-11T18:14:25.063387Z",
     "shell.execute_reply": "2024-07-11T18:14:25.062307Z"
    },
    "id": "H8AslPx8Vtox",
    "papermill": {
     "duration": 0.82192,
     "end_time": "2024-07-11T18:14:25.065850",
     "exception": false,
     "start_time": "2024-07-11T18:14:24.243930",
     "status": "completed"
    },
    "tags": []
   },
   "outputs": [
    {
     "data": {
      "text/plain": [
       "<matplotlib.legend.Legend at 0x7857143af490>"
      ]
     },
     "execution_count": 10,
     "metadata": {},
     "output_type": "execute_result"
    },
    {
     "data": {
      "image/png": "[encoded data removed]",
      "text/plain": [
       "<Figure size 1500x700 with 2 Axes>"
      ]
     },
     "metadata": {},
     "output_type": "display_data"
    }
   ],
   "source": [
    "# Plot Effnetb2 Curves\n",
    "plt.figure(figsize=(15, 7))\n",
    "\n",
    "# Plot loss\n",
    "plt.subplot(1, 2, 1)\n",
    "plt.plot(range(len(effnetb2_results[\"train_loss\"])), effnetb2_results[\"train_loss\"], label=\"train_loss\")\n",
    "plt.plot(range(len(effnetb2_results[\"train_loss\"])),  effnetb2_results[\"test_loss\"], label=\"test_loss\")\n",
    "plt.title(\"Loss\")\n",
    "plt.xlabel(\"Epochs\")\n",
    "plt.legend()\n",
    "\n",
    "# Plot accuracy\n",
    "plt.subplot(1, 2, 2)\n",
    "plt.plot(range(len(effnetb2_results[\"train_loss\"])), effnetb2_results[\"train_acc\"], label=\"train_accuracy\")\n",
    "plt.plot(range(len(effnetb2_results[\"train_loss\"])), effnetb2_results[\"test_acc\"], label=\"test_accuracy\")\n",
    "plt.title(\"Accuracy\")\n",
    "plt.xlabel(\"Epochs\")\n",
    "plt.legend()"
   ]
  },
  {
   "cell_type": "code",
   "execution_count": 11,
   "id": "a5f89963",
   "metadata": {
    "execution": {
     "iopub.execute_input": "2024-07-11T18:14:25.356073Z",
     "iopub.status.busy": "2024-07-11T18:14:25.355704Z",
     "iopub.status.idle": "2024-07-11T18:14:25.458707Z",
     "shell.execute_reply": "2024-07-11T18:14:25.457846Z"
    },
    "id": "zIofIQEwXmH5",
    "papermill": {
     "duration": 0.248626,
     "end_time": "2024-07-11T18:14:25.461248",
     "exception": false,
     "start_time": "2024-07-11T18:14:25.212622",
     "status": "completed"
    },
    "tags": []
   },
   "outputs": [],
   "source": [
    "# Save The Model File To Models Folder\n",
    "os.mkdir('models')\n",
    "torch.save(obj=effnetb2.state_dict(),\n",
    "          f=\"models/effnetb2.pth\")"
   ]
  },
  {
   "cell_type": "code",
   "execution_count": 12,
   "id": "55fda281",
   "metadata": {
    "execution": {
     "iopub.execute_input": "2024-07-11T18:14:25.743295Z",
     "iopub.status.busy": "2024-07-11T18:14:25.742602Z",
     "iopub.status.idle": "2024-07-11T18:14:25.748272Z",
     "shell.execute_reply": "2024-07-11T18:14:25.747329Z"
    },
    "id": "FhNDawW2Yaxi",
    "papermill": {
     "duration": 0.146646,
     "end_time": "2024-07-11T18:14:25.750493",
     "exception": false,
     "start_time": "2024-07-11T18:14:25.603847",
     "status": "completed"
    },
    "tags": []
   },
   "outputs": [
    {
     "name": "stdout",
     "output_type": "stream",
     "text": [
      "effnetb2 features extractor model size is 30.35 megabytes\n"
     ]
    }
   ],
   "source": [
    "# Inspect The Size Of The Model To Compare It With Other Model Later\n",
    "effnetb2_size = round(Path(\"models/effnetb2.pth\").stat().st_size / (1024 * 1024),2)\n",
    "print(\"effnetb2 features extractor model size is\",effnetb2_size,\"megabytes\")"
   ]
  },
  {
   "cell_type": "code",
   "execution_count": 13,
   "id": "85c47d1a",
   "metadata": {
    "execution": {
     "iopub.execute_input": "2024-07-11T18:14:26.032068Z",
     "iopub.status.busy": "2024-07-11T18:14:26.031445Z",
     "iopub.status.idle": "2024-07-11T18:14:26.040596Z",
     "shell.execute_reply": "2024-07-11T18:14:26.039672Z"
    },
    "id": "hWBDOPCEYoK3",
    "papermill": {
     "duration": 0.151295,
     "end_time": "2024-07-11T18:14:26.042569",
     "exception": false,
     "start_time": "2024-07-11T18:14:25.891274",
     "status": "completed"
    },
    "tags": []
   },
   "outputs": [
    {
     "data": {
      "text/plain": [
       "7843303"
      ]
     },
     "execution_count": 13,
     "metadata": {},
     "output_type": "execute_result"
    }
   ],
   "source": [
    "# Inspect The Number Of Parameters Of The Model To Compare It With Other Model Later\n",
    "effnetb2_total_params = sum(torch.numel(params) for params in effnetb2.parameters())\n",
    "effnetb2_total_params"
   ]
  },
  {
   "cell_type": "code",
   "execution_count": 14,
   "id": "dd26d19d",
   "metadata": {
    "execution": {
     "iopub.execute_input": "2024-07-11T18:14:26.322353Z",
     "iopub.status.busy": "2024-07-11T18:14:26.321734Z",
     "iopub.status.idle": "2024-07-11T18:14:26.328805Z",
     "shell.execute_reply": "2024-07-11T18:14:26.327898Z"
    },
    "id": "bGqzlsRVY6Es",
    "papermill": {
     "duration": 0.147342,
     "end_time": "2024-07-11T18:14:26.330845",
     "exception": false,
     "start_time": "2024-07-11T18:14:26.183503",
     "status": "completed"
    },
    "tags": []
   },
   "outputs": [
    {
     "data": {
      "text/plain": [
       "{'test_loss': 2.212507558019855,\n",
       " 'test_acc': 0.6032893135345667,\n",
       " 'size': 30.35,\n",
       " 'num_params': 7843303}"
      ]
     },
     "execution_count": 14,
     "metadata": {},
     "output_type": "execute_result"
    }
   ],
   "source": [
    "# Create a Dict With Effnetb2 Stats\n",
    "effnetb2_stats = {'test_loss':effnetb2_results['test_loss'][-1],\n",
    "                  'test_acc':effnetb2_results['test_acc'][-1],\n",
    "                  'size':effnetb2_size,\n",
    "                  'num_params':effnetb2_total_params,\n",
    "                  }\n",
    "effnetb2_stats"
   ]
  },
  {
   "cell_type": "markdown",
   "id": "75db0dcc",
   "metadata": {
    "id": "YKwNxCvjZGI1",
    "papermill": {
     "duration": 0.136392,
     "end_time": "2024-07-11T18:14:26.607054",
     "exception": false,
     "start_time": "2024-07-11T18:14:26.470662",
     "status": "completed"
    },
    "tags": []
   },
   "source": [
    "# 3 EffNetB3 Model"
   ]
  },
  {
   "cell_type": "markdown",
   "id": "48b6decf",
   "metadata": {
    "id": "E6_Fe-CUZwAc",
    "papermill": {
     "duration": 0.136671,
     "end_time": "2024-07-11T18:14:26.884611",
     "exception": false,
     "start_time": "2024-07-11T18:14:26.747940",
     "status": "completed"
    },
    "tags": []
   },
   "source": [
    "## 3.1\n",
    "Make a Function To Make Model And Freeze All Trainable Parameters Except Classifier Head"
   ]
  },
  {
   "cell_type": "code",
   "execution_count": 15,
   "id": "95807fa8",
   "metadata": {
    "execution": {
     "iopub.execute_input": "2024-07-11T18:14:27.157782Z",
     "iopub.status.busy": "2024-07-11T18:14:27.156885Z",
     "iopub.status.idle": "2024-07-11T18:14:28.486055Z",
     "shell.execute_reply": "2024-07-11T18:14:28.485161Z"
    },
    "id": "RF28KUYIZJGe",
    "papermill": {
     "duration": 1.468251,
     "end_time": "2024-07-11T18:14:28.487989",
     "exception": false,
     "start_time": "2024-07-11T18:14:27.019738",
     "status": "completed"
    },
    "tags": []
   },
   "outputs": [
    {
     "name": "stderr",
     "output_type": "stream",
     "text": [
      "Downloading: \"https://download.pytorch.org/models/efficientnet_b3_rwightman-b3899882.pth\" to /root/.cache/torch/hub/checkpoints/efficientnet_b3_rwightman-b3899882.pth\n",
      "100%|██████████| 47.2M/47.2M [00:00<00:00, 79.9MB/s]\n"
     ]
    },
    {
     "data": {
      "text/plain": [
       "ImageClassification(\n",
       "    crop_size=[300]\n",
       "    resize_size=[320]\n",
       "    mean=[0.485, 0.456, 0.406]\n",
       "    std=[0.229, 0.224, 0.225]\n",
       "    interpolation=InterpolationMode.BICUBIC\n",
       ")"
      ]
     },
     "execution_count": 15,
     "metadata": {},
     "output_type": "execute_result"
    }
   ],
   "source": [
    "def create_effnetb3(num_classes: int = 101):\n",
    "  weights = torchvision.models.EfficientNet_B3_Weights.DEFAULT\n",
    "  transforms = weights.transforms()\n",
    "  model = torchvision.models.efficientnet_b3(weights=weights).to(device)\n",
    "\n",
    "  for params in model.parameters():\n",
    "    params.requires_grad = False\n",
    "\n",
    "  model.classifier = nn.Sequential(\n",
    "      nn.Dropout(p=0.2, inplace=True),\n",
    "      nn.Linear(in_features=1536, out_features=num_classes, bias=True))\n",
    "  return model,transforms\n",
    "\n",
    "effnetb3,effnetb3_transforms = create_effnetb3(num_classes=101)\n",
    "effnetb3_transforms"
   ]
  },
  {
   "cell_type": "code",
   "execution_count": 16,
   "id": "bd695e4b",
   "metadata": {
    "execution": {
     "iopub.execute_input": "2024-07-11T18:14:28.761040Z",
     "iopub.status.busy": "2024-07-11T18:14:28.760690Z",
     "iopub.status.idle": "2024-07-11T18:14:28.966106Z",
     "shell.execute_reply": "2024-07-11T18:14:28.965163Z"
    },
    "id": "NyMs-L6mZrM8",
    "papermill": {
     "duration": 0.343256,
     "end_time": "2024-07-11T18:14:28.968318",
     "exception": false,
     "start_time": "2024-07-11T18:14:28.625062",
     "status": "completed"
    },
    "tags": []
   },
   "outputs": [
    {
     "data": {
      "text/plain": [
       "============================================================================================================================================\n",
       "Layer (type (var_name))                                      Input Shape          Output Shape         Param #              Trainable\n",
       "============================================================================================================================================\n",
       "EfficientNet (EfficientNet)                                  [1, 3, 224, 224]     [1, 101]             --                   Partial\n",
       "├─Sequential (features)                                      [1, 3, 224, 224]     [1, 1536, 7, 7]      --                   False\n",
       "│    └─Conv2dNormActivation (0)                              [1, 3, 224, 224]     [1, 40, 112, 112]    --                   False\n",
       "│    │    └─Conv2d (0)                                       [1, 3, 224, 224]     [1, 40, 112, 112]    (1,080)              False\n",
       "│    │    └─BatchNorm2d (1)                                  [1, 40, 112, 112]    [1, 40, 112, 112]    (80)                 False\n",
       "│    │    └─SiLU (2)                                         [1, 40, 112, 112]    [1, 40, 112, 112]    --                   --\n",
       "│    └─Sequential (1)                                        [1, 40, 112, 112]    [1, 24, 112, 112]    --                   False\n",
       "│    │    └─MBConv (0)                                       [1, 40, 112, 112]    [1, 24, 112, 112]    (2,298)              False\n",
       "│    │    └─MBConv (1)                                       [1, 24, 112, 112]    [1, 24, 112, 112]    (1,206)              False\n",
       "│    └─Sequential (2)                                        [1, 24, 112, 112]    [1, 32, 56, 56]      --                   False\n",
       "│    │    └─MBConv (0)                                       [1, 24, 112, 112]    [1, 32, 56, 56]      (11,878)             False\n",
       "│    │    └─MBConv (1)                                       [1, 32, 56, 56]      [1, 32, 56, 56]      (18,120)             False\n",
       "│    │    └─MBConv (2)                                       [1, 32, 56, 56]      [1, 32, 56, 56]      (18,120)             False\n",
       "│    └─Sequential (3)                                        [1, 32, 56, 56]      [1, 48, 28, 28]      --                   False\n",
       "│    │    └─MBConv (0)                                       [1, 32, 56, 56]      [1, 48, 28, 28]      (24,296)             False\n",
       "│    │    └─MBConv (1)                                       [1, 48, 28, 28]      [1, 48, 28, 28]      (43,308)             False\n",
       "│    │    └─MBConv (2)                                       [1, 48, 28, 28]      [1, 48, 28, 28]      (43,308)             False\n",
       "│    └─Sequential (4)                                        [1, 48, 28, 28]      [1, 96, 14, 14]      --                   False\n",
       "│    │    └─MBConv (0)                                       [1, 48, 28, 28]      [1, 96, 14, 14]      (52,620)             False\n",
       "│    │    └─MBConv (1)                                       [1, 96, 14, 14]      [1, 96, 14, 14]      (146,520)            False\n",
       "│    │    └─MBConv (2)                                       [1, 96, 14, 14]      [1, 96, 14, 14]      (146,520)            False\n",
       "│    │    └─MBConv (3)                                       [1, 96, 14, 14]      [1, 96, 14, 14]      (146,520)            False\n",
       "│    │    └─MBConv (4)                                       [1, 96, 14, 14]      [1, 96, 14, 14]      (146,520)            False\n",
       "│    └─Sequential (5)                                        [1, 96, 14, 14]      [1, 136, 14, 14]     --                   False\n",
       "│    │    └─MBConv (0)                                       [1, 96, 14, 14]      [1, 136, 14, 14]     (178,856)            False\n",
       "│    │    └─MBConv (1)                                       [1, 136, 14, 14]     [1, 136, 14, 14]     (302,226)            False\n",
       "│    │    └─MBConv (2)                                       [1, 136, 14, 14]     [1, 136, 14, 14]     (302,226)            False\n",
       "│    │    └─MBConv (3)                                       [1, 136, 14, 14]     [1, 136, 14, 14]     (302,226)            False\n",
       "│    │    └─MBConv (4)                                       [1, 136, 14, 14]     [1, 136, 14, 14]     (302,226)            False\n",
       "│    └─Sequential (6)                                        [1, 136, 14, 14]     [1, 232, 7, 7]       --                   False\n",
       "│    │    └─MBConv (0)                                       [1, 136, 14, 14]     [1, 232, 7, 7]       (380,754)            False\n",
       "│    │    └─MBConv (1)                                       [1, 232, 7, 7]       [1, 232, 7, 7]       (849,642)            False\n",
       "│    │    └─MBConv (2)                                       [1, 232, 7, 7]       [1, 232, 7, 7]       (849,642)            False\n",
       "│    │    └─MBConv (3)                                       [1, 232, 7, 7]       [1, 232, 7, 7]       (849,642)            False\n",
       "│    │    └─MBConv (4)                                       [1, 232, 7, 7]       [1, 232, 7, 7]       (849,642)            False\n",
       "│    │    └─MBConv (5)                                       [1, 232, 7, 7]       [1, 232, 7, 7]       (849,642)            False\n",
       "│    └─Sequential (7)                                        [1, 232, 7, 7]       [1, 384, 7, 7]       --                   False\n",
       "│    │    └─MBConv (0)                                       [1, 232, 7, 7]       [1, 384, 7, 7]       (1,039,258)          False\n",
       "│    │    └─MBConv (1)                                       [1, 384, 7, 7]       [1, 384, 7, 7]       (2,244,960)          False\n",
       "│    └─Conv2dNormActivation (8)                              [1, 384, 7, 7]       [1, 1536, 7, 7]      --                   False\n",
       "│    │    └─Conv2d (0)                                       [1, 384, 7, 7]       [1, 1536, 7, 7]      (589,824)            False\n",
       "│    │    └─BatchNorm2d (1)                                  [1, 1536, 7, 7]      [1, 1536, 7, 7]      (3,072)              False\n",
       "│    │    └─SiLU (2)                                         [1, 1536, 7, 7]      [1, 1536, 7, 7]      --                   --\n",
       "├─AdaptiveAvgPool2d (avgpool)                                [1, 1536, 7, 7]      [1, 1536, 1, 1]      --                   --\n",
       "├─Sequential (classifier)                                    [1, 1536]            [1, 101]             --                   True\n",
       "│    └─Dropout (0)                                           [1, 1536]            [1, 1536]            --                   --\n",
       "│    └─Linear (1)                                            [1, 1536]            [1, 101]             155,237              True\n",
       "============================================================================================================================================\n",
       "Total params: 10,851,469\n",
       "Trainable params: 155,237\n",
       "Non-trainable params: 10,696,232\n",
       "Total mult-adds (M): 961.43\n",
       "============================================================================================================================================\n",
       "Input size (MB): 0.60\n",
       "Forward/backward pass size (MB): 207.94\n",
       "Params size (MB): 43.41\n",
       "Estimated Total Size (MB): 251.95\n",
       "============================================================================================================================================"
      ]
     },
     "execution_count": 16,
     "metadata": {},
     "output_type": "execute_result"
    }
   ],
   "source": [
    "summary(effnetb3, input_size=(1, 3, 224, 224),col_names=['input_size','output_size','num_params','trainable'],col_width=20,row_settings=['var_names'])"
   ]
  },
  {
   "cell_type": "markdown",
   "id": "1d1455e6",
   "metadata": {
    "id": "w76oyyQNZ5Oj",
    "papermill": {
     "duration": 0.155057,
     "end_time": "2024-07-11T18:14:29.260843",
     "exception": false,
     "start_time": "2024-07-11T18:14:29.105786",
     "status": "completed"
    },
    "tags": []
   },
   "source": [
    "## 3.2\n",
    "Get The Data And Make A Data Loaders For EffNetB3 Model"
   ]
  },
  {
   "cell_type": "code",
   "execution_count": 17,
   "id": "6b627712",
   "metadata": {
    "execution": {
     "iopub.execute_input": "2024-07-11T18:14:29.545550Z",
     "iopub.status.busy": "2024-07-11T18:14:29.545190Z",
     "iopub.status.idle": "2024-07-11T18:14:30.620999Z",
     "shell.execute_reply": "2024-07-11T18:14:30.620008Z"
    },
    "id": "3cbQDwgkZ7S_",
    "papermill": {
     "duration": 1.219709,
     "end_time": "2024-07-11T18:14:30.623425",
     "exception": false,
     "start_time": "2024-07-11T18:14:29.403716",
     "status": "completed"
    },
    "tags": []
   },
   "outputs": [],
   "source": [
    "# First We Will Make Data Augmentation Transform for Training Data To Eliminate Overfitting\n",
    "train_transforms_effnetb3 = torchvision.transforms.Compose([ torchvision.transforms.TrivialAugmentWide(),\n",
    "                                             effnetb3_transforms])\n",
    "# We Will Load Food101 Dataset Using Pytorch\n",
    "train_data_effnetb3 = torchvision.datasets.Food101(root=\"data\", # Passing Root Directory\n",
    "                             split='train', # Passing Train Split\n",
    "                             transform=train_transforms_effnetb3, # Passing Train Transform\n",
    "                             download=True)\n",
    "\n",
    "\n",
    "test_data_effnetb3 = torchvision.datasets.Food101(root=\"data\", # Passing Root Directory\n",
    "                             split='test', # Passing Test Split\n",
    "                             transform=effnetb3_transforms, # Passing Test Normal Transform\n",
    "                             download=True)"
   ]
  },
  {
   "cell_type": "code",
   "execution_count": 18,
   "id": "c8c5e596",
   "metadata": {
    "execution": {
     "iopub.execute_input": "2024-07-11T18:14:30.894482Z",
     "iopub.status.busy": "2024-07-11T18:14:30.894093Z",
     "iopub.status.idle": "2024-07-11T18:14:30.900366Z",
     "shell.execute_reply": "2024-07-11T18:14:30.899478Z"
    },
    "id": "FeWbjCrYaGjV",
    "papermill": {
     "duration": 0.144687,
     "end_time": "2024-07-11T18:14:30.902229",
     "exception": false,
     "start_time": "2024-07-11T18:14:30.757542",
     "status": "completed"
    },
    "tags": []
   },
   "outputs": [
    {
     "data": {
      "text/plain": [
       "['apple_pie',\n",
       " 'baby_back_ribs',\n",
       " 'baklava',\n",
       " 'beef_carpaccio',\n",
       " 'beef_tartare',\n",
       " 'beet_salad',\n",
       " 'beignets',\n",
       " 'bibimbap',\n",
       " 'bread_pudding',\n",
       " 'breakfast_burrito']"
      ]
     },
     "execution_count": 18,
     "metadata": {},
     "output_type": "execute_result"
    }
   ],
   "source": [
    "class_names[:10] # Same As Effnetb2 So We Don't Need To Extract It Again"
   ]
  },
  {
   "cell_type": "code",
   "execution_count": 19,
   "id": "aa1a2c32",
   "metadata": {
    "execution": {
     "iopub.execute_input": "2024-07-11T18:14:31.230471Z",
     "iopub.status.busy": "2024-07-11T18:14:31.230103Z",
     "iopub.status.idle": "2024-07-11T18:14:31.245423Z",
     "shell.execute_reply": "2024-07-11T18:14:31.244351Z"
    },
    "id": "Ny778ZgraCrm",
    "papermill": {
     "duration": 0.206626,
     "end_time": "2024-07-11T18:14:31.247463",
     "exception": false,
     "start_time": "2024-07-11T18:14:31.040837",
     "status": "completed"
    },
    "tags": []
   },
   "outputs": [
    {
     "name": "stdout",
     "output_type": "stream",
     "text": [
      "[INFO] Splitting dataset of length 75750 into splits of size: 15150 (20%), 60600 (80%)\n",
      "[INFO] Splitting dataset of length 25250 into splits of size: 5050 (20%), 20200 (80%)\n"
     ]
    }
   ],
   "source": [
    "# We will Match Effnetb2 Model Of The Data Reduction Size\n",
    "\n",
    "train_data_effnetb3_20_percent,_ = split_dataset(dataset=train_data_effnetb3,split_size=.2)\n",
    "test_data_effnetb3_20_percent,_ = split_dataset(dataset=test_data_effnetb3,split_size=.2)"
   ]
  },
  {
   "cell_type": "code",
   "execution_count": 20,
   "id": "267d3b5a",
   "metadata": {
    "execution": {
     "iopub.execute_input": "2024-07-11T18:14:31.529890Z",
     "iopub.status.busy": "2024-07-11T18:14:31.529020Z",
     "iopub.status.idle": "2024-07-11T18:14:31.535774Z",
     "shell.execute_reply": "2024-07-11T18:14:31.534830Z"
    },
    "id": "3mYtF7nJapzm",
    "papermill": {
     "duration": 0.151442,
     "end_time": "2024-07-11T18:14:31.537823",
     "exception": false,
     "start_time": "2024-07-11T18:14:31.386381",
     "status": "completed"
    },
    "tags": []
   },
   "outputs": [],
   "source": [
    "# Create The Data Loader\n",
    "batch_size = 32 # We Will Keep Constant Batch Size 32 In The Whole Notebook\n",
    "num_workers=os.cpu_count() # Num Workers Equal Two\n",
    "\n",
    "train_dataloader_effnetb3_20_percent = torch.utils.data.DataLoader(dataset=train_data_effnetb3_20_percent,\n",
    "                                                                   batch_size=batch_size,\n",
    "                                                                   shuffle=True,\n",
    "                                                                   num_workers=num_workers\n",
    "                                                                   )\n",
    "\n",
    "\n",
    "test_dataloader_effnetb3_20_percent = torch.utils.data.DataLoader(dataset=test_data_effnetb3_20_percent,\n",
    "                                                                 batch_size=batch_size,\n",
    "                                                                 shuffle=False,\n",
    "                                                                 num_workers=num_workers)"
   ]
  },
  {
   "cell_type": "markdown",
   "id": "2b163a1e",
   "metadata": {
    "id": "vpfOh06Patwy",
    "papermill": {
     "duration": 0.140241,
     "end_time": "2024-07-11T18:14:31.816615",
     "exception": false,
     "start_time": "2024-07-11T18:14:31.676374",
     "status": "completed"
    },
    "tags": []
   },
   "source": [
    "## 3.3 Train EffNetB3 Model"
   ]
  },
  {
   "cell_type": "code",
   "execution_count": 21,
   "id": "9ba84ff2",
   "metadata": {
    "execution": {
     "iopub.execute_input": "2024-07-11T18:14:32.105421Z",
     "iopub.status.busy": "2024-07-11T18:14:32.105035Z",
     "iopub.status.idle": "2024-07-11T18:32:49.184310Z",
     "shell.execute_reply": "2024-07-11T18:32:49.183132Z"
    },
    "id": "nwa_a4HgawED",
    "papermill": {
     "duration": 1097.380303,
     "end_time": "2024-07-11T18:32:49.339269",
     "exception": false,
     "start_time": "2024-07-11T18:14:31.958966",
     "status": "completed"
    },
    "tags": []
   },
   "outputs": [
    {
     "data": {
      "application/vnd.jupyter.widget-view+json": {
       "model_id": "2f79489b6b1943e6bd136ca6f961f481",
       "version_major": 2,
       "version_minor": 0
      },
      "text/plain": [
       "  0%|          | 0/10 [00:00<?, ?it/s]"
      ]
     },
     "metadata": {},
     "output_type": "display_data"
    },
    {
     "name": "stdout",
     "output_type": "stream",
     "text": [
      "Epoch 1: train_loss=3.6355, train_acc=0.2858, test_loss=2.7492, test_acc=0.5119\n",
      "Epoch 2: train_loss=2.8264, train_acc=0.4506, test_loss=2.3894, test_acc=0.5690\n",
      "Epoch 3: train_loss=2.5867, train_acc=0.5037, test_loss=2.2834, test_acc=0.5761\n",
      "Epoch 4: train_loss=2.4639, train_acc=0.5355, test_loss=2.2182, test_acc=0.5987\n",
      "Epoch 5: train_loss=2.4024, train_acc=0.5496, test_loss=2.1882, test_acc=0.6047\n",
      "Epoch 6: train_loss=2.3354, train_acc=0.5691, test_loss=2.1515, test_acc=0.6140\n",
      "Epoch 7: train_loss=2.2938, train_acc=0.5793, test_loss=2.1559, test_acc=0.6105\n",
      "Epoch 8: train_loss=2.2498, train_acc=0.5906, test_loss=2.1263, test_acc=0.6138\n",
      "Epoch 9: train_loss=2.2223, train_acc=0.5988, test_loss=2.1347, test_acc=0.6152\n",
      "Epoch 10: train_loss=2.2007, train_acc=0.6022, test_loss=2.1308, test_acc=0.6197\n"
     ]
    }
   ],
   "source": [
    "loss = torch.nn.CrossEntropyLoss(label_smoothing=0.1) # Label Smoothing Is Regularization To Reduce Overfitting\n",
    "optimizer = torch.optim.Adam(params=effnetb3.parameters(),lr=0.001)\n",
    "\n",
    "effnetb3_results = train(model=effnetb3,train_dataloader=train_dataloader_effnetb3_20_percent,test_dataloader=test_dataloader_effnetb3_20_percent,optimizer=optimizer,loss_fn=loss,device=device,epochs=10)"
   ]
  },
  {
   "cell_type": "markdown",
   "id": "e80a3a4a",
   "metadata": {
    "id": "MKdYyIbba_eF",
    "papermill": {
     "duration": 0.147392,
     "end_time": "2024-07-11T18:32:49.641998",
     "exception": false,
     "start_time": "2024-07-11T18:32:49.494606",
     "status": "completed"
    },
    "tags": []
   },
   "source": [
    "## 3.4 Evaluate EffNetB3"
   ]
  },
  {
   "cell_type": "code",
   "execution_count": 22,
   "id": "8e9f67d9",
   "metadata": {
    "execution": {
     "iopub.execute_input": "2024-07-11T18:32:49.945451Z",
     "iopub.status.busy": "2024-07-11T18:32:49.945014Z",
     "iopub.status.idle": "2024-07-11T18:32:50.640213Z",
     "shell.execute_reply": "2024-07-11T18:32:50.639181Z"
    },
    "id": "MhDTHCksbAXd",
    "papermill": {
     "duration": 0.851421,
     "end_time": "2024-07-11T18:32:50.642987",
     "exception": false,
     "start_time": "2024-07-11T18:32:49.791566",
     "status": "completed"
    },
    "tags": []
   },
   "outputs": [
    {
     "data": {
      "text/plain": [
       "<matplotlib.legend.Legend at 0x7856b2e5f9d0>"
      ]
     },
     "execution_count": 22,
     "metadata": {},
     "output_type": "execute_result"
    },
    {
     "data": {
      "image/png": "[encoded data removed]",
      "text/plain": [
       "<Figure size 1500x700 with 2 Axes>"
      ]
     },
     "metadata": {},
     "output_type": "display_data"
    }
   ],
   "source": [
    "# Plot Effnetb2 Curves\n",
    "plt.figure(figsize=(15, 7))\n",
    "\n",
    "# Plot loss\n",
    "plt.subplot(1, 2, 1)\n",
    "plt.plot(range(len(effnetb3_results[\"train_loss\"])), effnetb3_results[\"train_loss\"], label=\"train_loss\")\n",
    "plt.plot(range(len(effnetb3_results[\"train_loss\"])),  effnetb3_results[\"test_loss\"], label=\"test_loss\")\n",
    "plt.title(\"Loss\")\n",
    "plt.xlabel(\"Epochs\")\n",
    "plt.legend()\n",
    "\n",
    "# Plot accuracy\n",
    "plt.subplot(1, 2, 2)\n",
    "plt.plot(range(len(effnetb3_results[\"train_loss\"])), effnetb3_results[\"train_acc\"], label=\"train_accuracy\")\n",
    "plt.plot(range(len(effnetb3_results[\"train_loss\"])), effnetb3_results[\"test_acc\"], label=\"test_accuracy\")\n",
    "plt.title(\"Accuracy\")\n",
    "plt.xlabel(\"Epochs\")\n",
    "plt.legend()"
   ]
  },
  {
   "cell_type": "code",
   "execution_count": 23,
   "id": "e082053f",
   "metadata": {
    "execution": {
     "iopub.execute_input": "2024-07-11T18:32:50.941541Z",
     "iopub.status.busy": "2024-07-11T18:32:50.940487Z",
     "iopub.status.idle": "2024-07-11T18:32:51.077970Z",
     "shell.execute_reply": "2024-07-11T18:32:51.076817Z"
    },
    "id": "2UOjzyR8bZIS",
    "papermill": {
     "duration": 0.289591,
     "end_time": "2024-07-11T18:32:51.080599",
     "exception": false,
     "start_time": "2024-07-11T18:32:50.791008",
     "status": "completed"
    },
    "tags": []
   },
   "outputs": [],
   "source": [
    "# Save The Model File To Models Folder\n",
    "torch.save(obj=effnetb3.state_dict(),\n",
    "          f=\"models/effnetb3.pth\")"
   ]
  },
  {
   "cell_type": "code",
   "execution_count": 24,
   "id": "e65da4df",
   "metadata": {
    "execution": {
     "iopub.execute_input": "2024-07-11T18:32:51.384328Z",
     "iopub.status.busy": "2024-07-11T18:32:51.383598Z",
     "iopub.status.idle": "2024-07-11T18:32:51.389652Z",
     "shell.execute_reply": "2024-07-11T18:32:51.388684Z"
    },
    "id": "Y55nUy1sbZKS",
    "papermill": {
     "duration": 0.163439,
     "end_time": "2024-07-11T18:32:51.391928",
     "exception": false,
     "start_time": "2024-07-11T18:32:51.228489",
     "status": "completed"
    },
    "tags": []
   },
   "outputs": [
    {
     "name": "stdout",
     "output_type": "stream",
     "text": [
      "vit features extractor model size is 41.92 megabytes\n"
     ]
    }
   ],
   "source": [
    "# Inspect The Size Of The Model To Compare It With effnetb2\n",
    "effnetb3_size = round(Path(\"models/effnetb3.pth\").stat().st_size / (1024 * 1024),2)\n",
    "print(\"vit features extractor model size is\",effnetb3_size,\"megabytes\")"
   ]
  },
  {
   "cell_type": "code",
   "execution_count": 25,
   "id": "6698724c",
   "metadata": {
    "execution": {
     "iopub.execute_input": "2024-07-11T18:32:51.706957Z",
     "iopub.status.busy": "2024-07-11T18:32:51.706052Z",
     "iopub.status.idle": "2024-07-11T18:32:51.716008Z",
     "shell.execute_reply": "2024-07-11T18:32:51.715011Z"
    },
    "id": "hUXkQk3xbZL2",
    "papermill": {
     "duration": 0.165954,
     "end_time": "2024-07-11T18:32:51.718134",
     "exception": false,
     "start_time": "2024-07-11T18:32:51.552180",
     "status": "completed"
    },
    "tags": []
   },
   "outputs": [
    {
     "data": {
      "text/plain": [
       "10851469"
      ]
     },
     "execution_count": 25,
     "metadata": {},
     "output_type": "execute_result"
    }
   ],
   "source": [
    "# Inspect The Number Of Parameters Of The Model To Compare It With effnetb2\n",
    "effnetb3_total_params = sum(torch.numel(params) for params in effnetb3.parameters())\n",
    "effnetb3_total_params"
   ]
  },
  {
   "cell_type": "code",
   "execution_count": 26,
   "id": "381b39b8",
   "metadata": {
    "execution": {
     "iopub.execute_input": "2024-07-11T18:32:52.025623Z",
     "iopub.status.busy": "2024-07-11T18:32:52.024951Z",
     "iopub.status.idle": "2024-07-11T18:32:52.032532Z",
     "shell.execute_reply": "2024-07-11T18:32:52.031406Z"
    },
    "id": "bzKP7E26bZPX",
    "papermill": {
     "duration": 0.159367,
     "end_time": "2024-07-11T18:32:52.034688",
     "exception": false,
     "start_time": "2024-07-11T18:32:51.875321",
     "status": "completed"
    },
    "tags": []
   },
   "outputs": [
    {
     "data": {
      "text/plain": [
       "{'test_loss': 2.1307603354695477,\n",
       " 'test_acc': 0.6197358812074002,\n",
       " 'size': 41.92,\n",
       " 'num_params': 10851469}"
      ]
     },
     "execution_count": 26,
     "metadata": {},
     "output_type": "execute_result"
    }
   ],
   "source": [
    "# Create a Dict With Effnetb2 Stats\n",
    "effnetb3_stats = {'test_loss':effnetb3_results['test_loss'][-1],\n",
    "                  'test_acc':effnetb3_results['test_acc'][-1],\n",
    "                  'size':effnetb3_size,\n",
    "                  'num_params':effnetb3_total_params,\n",
    "                  }\n",
    "effnetb3_stats"
   ]
  },
  {
   "cell_type": "markdown",
   "id": "b451b798",
   "metadata": {
    "id": "CLHJ_PKMcHMz",
    "papermill": {
     "duration": 0.161329,
     "end_time": "2024-07-11T18:32:52.402953",
     "exception": false,
     "start_time": "2024-07-11T18:32:52.241624",
     "status": "completed"
    },
    "tags": []
   },
   "source": [
    "# 4 Choose The Best"
   ]
  },
  {
   "cell_type": "markdown",
   "id": "c69e7ec5",
   "metadata": {
    "id": "lpHnjTxXciya",
    "papermill": {
     "duration": 0.145013,
     "end_time": "2024-07-11T18:32:52.723237",
     "exception": false,
     "start_time": "2024-07-11T18:32:52.578224",
     "status": "completed"
    },
    "tags": []
   },
   "source": [
    "## 4.1 Make A Function To Predict With Our Two Trained Models\n",
    "To calculate comparison cf accuracy and speed.\n"
   ]
  },
  {
   "cell_type": "code",
   "execution_count": 27,
   "id": "d03d74d8",
   "metadata": {
    "execution": {
     "iopub.execute_input": "2024-07-11T18:32:53.019060Z",
     "iopub.status.busy": "2024-07-11T18:32:53.018696Z",
     "iopub.status.idle": "2024-07-11T18:32:53.029079Z",
     "shell.execute_reply": "2024-07-11T18:32:53.027396Z"
    },
    "id": "hc3g4sSHcMDL",
    "papermill": {
     "duration": 0.160875,
     "end_time": "2024-07-11T18:32:53.031336",
     "exception": false,
     "start_time": "2024-07-11T18:32:52.870461",
     "status": "completed"
    },
    "tags": []
   },
   "outputs": [],
   "source": [
    "def pred_and_store(paths,\n",
    "                   model,\n",
    "                   transform,\n",
    "                   class_names,\n",
    "                   device):\n",
    "  pred_list = []\n",
    "  for path in tqdm(paths):\n",
    "    pred_dict  = {}\n",
    "    pred_dict['image_path'] = path\n",
    "    class_name = path.parent.stem\n",
    "    pred_dict['class_name'] = class_name\n",
    "\n",
    "    start_time = timer()\n",
    "    img = Image.open(path)\n",
    "    img_tensor = transform(img).unsqueeze(dim=0).to(device)\n",
    "    model.to(device)\n",
    "    model.eval()\n",
    "    with torch.inference_mode():\n",
    "      pred_logits = model(img_tensor)\n",
    "      pred_prob = torch.softmax(pred_logits, dim=1)\n",
    "      pred_label = torch.argmax(pred_prob, dim=1)\n",
    "      pred_class = class_names[pred_label.cpu()]\n",
    "      pred_dict[\"pred_prob\"] = round(pred_prob.unsqueeze(0).max().cpu().item(),4)\n",
    "      pred_dict[\"pred_class\"] = pred_class\n",
    "      end_time = timer()\n",
    "      pred_dict[\"time_for_pred\"] = round(end_time - start_time,4)\n",
    "    pred_dict['correct'] = class_name == pred_class\n",
    "    pred_list.append(pred_dict)\n",
    "\n",
    "  return pred_list"
   ]
  },
  {
   "cell_type": "code",
   "execution_count": 28,
   "id": "a1a87d4e",
   "metadata": {
    "execution": {
     "iopub.execute_input": "2024-07-11T18:32:53.328260Z",
     "iopub.status.busy": "2024-07-11T18:32:53.327315Z",
     "iopub.status.idle": "2024-07-11T18:32:53.991443Z",
     "shell.execute_reply": "2024-07-11T18:32:53.990472Z"
    },
    "id": "VDjhCD8HdMEV",
    "papermill": {
     "duration": 0.815792,
     "end_time": "2024-07-11T18:32:53.993428",
     "exception": false,
     "start_time": "2024-07-11T18:32:53.177636",
     "status": "completed"
    },
    "tags": []
   },
   "outputs": [
    {
     "data": {
      "text/plain": [
       "[PosixPath('data/food-101/images/tacos/3159086.jpg'),\n",
       " PosixPath('data/food-101/images/carrot_cake/3336856.jpg'),\n",
       " PosixPath('data/food-101/images/risotto/681331.jpg'),\n",
       " PosixPath('data/food-101/images/prime_rib/1408388.jpg'),\n",
       " PosixPath('data/food-101/images/breakfast_burrito/1380179.jpg')]"
      ]
     },
     "execution_count": 28,
     "metadata": {},
     "output_type": "execute_result"
    }
   ],
   "source": [
    "data_dir = 'data/food-101/images'\n",
    "\n",
    "# Get paths for all images\n",
    "data_paths = list(Path(data_dir).glob(\"*/*.jpg\"))\n",
    "\n",
    "# Randomly select 1000 images\n",
    "random.seed(42)  # Set a seed for reproducibility\n",
    "test_data_paths = random.sample(data_paths, 1000)\n",
    "\n",
    "test_data_paths[:5]"
   ]
  },
  {
   "cell_type": "markdown",
   "id": "9594856f",
   "metadata": {
    "id": "XseveFwxetXC",
    "papermill": {
     "duration": 0.147577,
     "end_time": "2024-07-11T18:32:54.289232",
     "exception": false,
     "start_time": "2024-07-11T18:32:54.141655",
     "status": "completed"
    },
    "tags": []
   },
   "source": [
    "## 4.2 Measure Real-Time Accuracy and Time Taken to Predict Using EfficientNetB2 on CPU with Test Data\n"
   ]
  },
  {
   "cell_type": "code",
   "execution_count": 29,
   "id": "072d5c5c",
   "metadata": {
    "execution": {
     "iopub.execute_input": "2024-07-11T18:32:54.596840Z",
     "iopub.status.busy": "2024-07-11T18:32:54.596462Z",
     "iopub.status.idle": "2024-07-11T18:34:34.793415Z",
     "shell.execute_reply": "2024-07-11T18:34:34.792467Z"
    },
    "id": "lU6WnynRdPF-",
    "papermill": {
     "duration": 100.353957,
     "end_time": "2024-07-11T18:34:34.795591",
     "exception": false,
     "start_time": "2024-07-11T18:32:54.441634",
     "status": "completed"
    },
    "tags": []
   },
   "outputs": [
    {
     "data": {
      "application/vnd.jupyter.widget-view+json": {
       "model_id": "390b112a296546eaae40a77029741bec",
       "version_major": 2,
       "version_minor": 0
      },
      "text/plain": [
       "  0%|          | 0/1000 [00:00<?, ?it/s]"
      ]
     },
     "metadata": {},
     "output_type": "display_data"
    },
    {
     "data": {
      "text/html": [
       "<div>\n",
       "<style scoped>\n",
       "    .dataframe tbody tr th:only-of-type {\n",
       "        vertical-align: middle;\n",
       "    }\n",
       "\n",
       "    .dataframe tbody tr th {\n",
       "        vertical-align: top;\n",
       "    }\n",
       "\n",
       "    .dataframe thead th {\n",
       "        text-align: right;\n",
       "    }\n",
       "</style>\n",
       "<table border=\"1\" class=\"dataframe\">\n",
       "  <thead>\n",
       "    <tr style=\"text-align: right;\">\n",
       "      <th></th>\n",
       "      <th>image_path</th>\n",
       "      <th>class_name</th>\n",
       "      <th>pred_prob</th>\n",
       "      <th>pred_class</th>\n",
       "      <th>time_for_pred</th>\n",
       "      <th>correct</th>\n",
       "    </tr>\n",
       "  </thead>\n",
       "  <tbody>\n",
       "    <tr>\n",
       "      <th>0</th>\n",
       "      <td>data/food-101/images/tacos/3159086.jpg</td>\n",
       "      <td>tacos</td>\n",
       "      <td>0.0646</td>\n",
       "      <td>beignets</td>\n",
       "      <td>0.2517</td>\n",
       "      <td>False</td>\n",
       "    </tr>\n",
       "    <tr>\n",
       "      <th>1</th>\n",
       "      <td>data/food-101/images/carrot_cake/3336856.jpg</td>\n",
       "      <td>carrot_cake</td>\n",
       "      <td>0.5141</td>\n",
       "      <td>red_velvet_cake</td>\n",
       "      <td>0.1004</td>\n",
       "      <td>False</td>\n",
       "    </tr>\n",
       "    <tr>\n",
       "      <th>2</th>\n",
       "      <td>data/food-101/images/risotto/681331.jpg</td>\n",
       "      <td>risotto</td>\n",
       "      <td>0.3763</td>\n",
       "      <td>risotto</td>\n",
       "      <td>0.1018</td>\n",
       "      <td>True</td>\n",
       "    </tr>\n",
       "    <tr>\n",
       "      <th>3</th>\n",
       "      <td>data/food-101/images/prime_rib/1408388.jpg</td>\n",
       "      <td>prime_rib</td>\n",
       "      <td>0.7065</td>\n",
       "      <td>prime_rib</td>\n",
       "      <td>0.0990</td>\n",
       "      <td>True</td>\n",
       "    </tr>\n",
       "    <tr>\n",
       "      <th>4</th>\n",
       "      <td>data/food-101/images/breakfast_burrito/1380179...</td>\n",
       "      <td>breakfast_burrito</td>\n",
       "      <td>0.6263</td>\n",
       "      <td>breakfast_burrito</td>\n",
       "      <td>0.0927</td>\n",
       "      <td>True</td>\n",
       "    </tr>\n",
       "  </tbody>\n",
       "</table>\n",
       "</div>"
      ],
      "text/plain": [
       "                                          image_path         class_name  \\\n",
       "0             data/food-101/images/tacos/3159086.jpg              tacos   \n",
       "1       data/food-101/images/carrot_cake/3336856.jpg        carrot_cake   \n",
       "2            data/food-101/images/risotto/681331.jpg            risotto   \n",
       "3         data/food-101/images/prime_rib/1408388.jpg          prime_rib   \n",
       "4  data/food-101/images/breakfast_burrito/1380179...  breakfast_burrito   \n",
       "\n",
       "   pred_prob         pred_class  time_for_pred  correct  \n",
       "0     0.0646           beignets         0.2517    False  \n",
       "1     0.5141    red_velvet_cake         0.1004    False  \n",
       "2     0.3763            risotto         0.1018     True  \n",
       "3     0.7065          prime_rib         0.0990     True  \n",
       "4     0.6263  breakfast_burrito         0.0927     True  "
      ]
     },
     "execution_count": 29,
     "metadata": {},
     "output_type": "execute_result"
    }
   ],
   "source": [
    "effnetb2_test_pred_dicts = pred_and_store(paths=test_data_paths,\n",
    "                   model = effnetb2,\n",
    "                   transform=effnetb2_transforms,\n",
    "                   class_names=class_names,\n",
    "                   device='cpu')\n",
    "effnetb2_test_pred_df = pd.DataFrame(effnetb2_test_pred_dicts)\n",
    "effnetb2_test_pred_df.head()"
   ]
  },
  {
   "cell_type": "code",
   "execution_count": 30,
   "id": "2b762949",
   "metadata": {
    "execution": {
     "iopub.execute_input": "2024-07-11T18:34:35.097406Z",
     "iopub.status.busy": "2024-07-11T18:34:35.096469Z",
     "iopub.status.idle": "2024-07-11T18:34:35.109143Z",
     "shell.execute_reply": "2024-07-11T18:34:35.108146Z"
    },
    "id": "xsgxirM8dVmu",
    "papermill": {
     "duration": 0.159999,
     "end_time": "2024-07-11T18:34:35.111914",
     "exception": false,
     "start_time": "2024-07-11T18:34:34.951915",
     "status": "completed"
    },
    "tags": []
   },
   "outputs": [
    {
     "name": "stdout",
     "output_type": "stream",
     "text": [
      "Average Accuracy: 0.605\n",
      "Average Time: 0.0996\n"
     ]
    }
   ],
   "source": [
    "# Calculate Average Accuracy And Average Time Taken\n",
    "print('Average Accuracy:', effnetb2_test_pred_df[\"correct\"].value_counts(normalize=True).max())\n",
    "effnetb2_average_time_per_pred = round(effnetb2_test_pred_df[\"time_for_pred\"].mean(),4)\n",
    "print(\"Average Time:\", effnetb2_average_time_per_pred)"
   ]
  },
  {
   "cell_type": "markdown",
   "id": "79e8db84",
   "metadata": {
    "id": "RKGbzgGKfIEo",
    "papermill": {
     "duration": 0.145626,
     "end_time": "2024-07-11T18:34:35.408466",
     "exception": false,
     "start_time": "2024-07-11T18:34:35.262840",
     "status": "completed"
    },
    "tags": []
   },
   "source": [
    "## 4.3 Measure Real-Time Accuracy and Time Taken to Predict Using EffNetB3 on CPU with Test Data"
   ]
  },
  {
   "cell_type": "code",
   "execution_count": 31,
   "id": "e23ebf9e",
   "metadata": {
    "execution": {
     "iopub.execute_input": "2024-07-11T18:34:35.703549Z",
     "iopub.status.busy": "2024-07-11T18:34:35.702628Z",
     "iopub.status.idle": "2024-07-11T18:37:07.701933Z",
     "shell.execute_reply": "2024-07-11T18:37:07.700942Z"
    },
    "id": "4H3_loTPdqFi",
    "papermill": {
     "duration": 152.148563,
     "end_time": "2024-07-11T18:37:07.704357",
     "exception": false,
     "start_time": "2024-07-11T18:34:35.555794",
     "status": "completed"
    },
    "tags": []
   },
   "outputs": [
    {
     "data": {
      "application/vnd.jupyter.widget-view+json": {
       "model_id": "dadbdc689ba64f4b9f4f46ea5c53da2a",
       "version_major": 2,
       "version_minor": 0
      },
      "text/plain": [
       "  0%|          | 0/1000 [00:00<?, ?it/s]"
      ]
     },
     "metadata": {},
     "output_type": "display_data"
    },
    {
     "data": {
      "text/html": [
       "<div>\n",
       "<style scoped>\n",
       "    .dataframe tbody tr th:only-of-type {\n",
       "        vertical-align: middle;\n",
       "    }\n",
       "\n",
       "    .dataframe tbody tr th {\n",
       "        vertical-align: top;\n",
       "    }\n",
       "\n",
       "    .dataframe thead th {\n",
       "        text-align: right;\n",
       "    }\n",
       "</style>\n",
       "<table border=\"1\" class=\"dataframe\">\n",
       "  <thead>\n",
       "    <tr style=\"text-align: right;\">\n",
       "      <th></th>\n",
       "      <th>image_path</th>\n",
       "      <th>class_name</th>\n",
       "      <th>pred_prob</th>\n",
       "      <th>pred_class</th>\n",
       "      <th>time_for_pred</th>\n",
       "      <th>correct</th>\n",
       "    </tr>\n",
       "  </thead>\n",
       "  <tbody>\n",
       "    <tr>\n",
       "      <th>0</th>\n",
       "      <td>data/food-101/images/tacos/3159086.jpg</td>\n",
       "      <td>tacos</td>\n",
       "      <td>0.2071</td>\n",
       "      <td>falafel</td>\n",
       "      <td>0.2349</td>\n",
       "      <td>False</td>\n",
       "    </tr>\n",
       "    <tr>\n",
       "      <th>1</th>\n",
       "      <td>data/food-101/images/carrot_cake/3336856.jpg</td>\n",
       "      <td>carrot_cake</td>\n",
       "      <td>0.9150</td>\n",
       "      <td>carrot_cake</td>\n",
       "      <td>0.1495</td>\n",
       "      <td>True</td>\n",
       "    </tr>\n",
       "    <tr>\n",
       "      <th>2</th>\n",
       "      <td>data/food-101/images/risotto/681331.jpg</td>\n",
       "      <td>risotto</td>\n",
       "      <td>0.7724</td>\n",
       "      <td>caesar_salad</td>\n",
       "      <td>0.1516</td>\n",
       "      <td>False</td>\n",
       "    </tr>\n",
       "    <tr>\n",
       "      <th>3</th>\n",
       "      <td>data/food-101/images/prime_rib/1408388.jpg</td>\n",
       "      <td>prime_rib</td>\n",
       "      <td>0.7675</td>\n",
       "      <td>prime_rib</td>\n",
       "      <td>0.1476</td>\n",
       "      <td>True</td>\n",
       "    </tr>\n",
       "    <tr>\n",
       "      <th>4</th>\n",
       "      <td>data/food-101/images/breakfast_burrito/1380179...</td>\n",
       "      <td>breakfast_burrito</td>\n",
       "      <td>0.7739</td>\n",
       "      <td>breakfast_burrito</td>\n",
       "      <td>0.1503</td>\n",
       "      <td>True</td>\n",
       "    </tr>\n",
       "  </tbody>\n",
       "</table>\n",
       "</div>"
      ],
      "text/plain": [
       "                                          image_path         class_name  \\\n",
       "0             data/food-101/images/tacos/3159086.jpg              tacos   \n",
       "1       data/food-101/images/carrot_cake/3336856.jpg        carrot_cake   \n",
       "2            data/food-101/images/risotto/681331.jpg            risotto   \n",
       "3         data/food-101/images/prime_rib/1408388.jpg          prime_rib   \n",
       "4  data/food-101/images/breakfast_burrito/1380179...  breakfast_burrito   \n",
       "\n",
       "   pred_prob         pred_class  time_for_pred  correct  \n",
       "0     0.2071            falafel         0.2349    False  \n",
       "1     0.9150        carrot_cake         0.1495     True  \n",
       "2     0.7724       caesar_salad         0.1516    False  \n",
       "3     0.7675          prime_rib         0.1476     True  \n",
       "4     0.7739  breakfast_burrito         0.1503     True  "
      ]
     },
     "execution_count": 31,
     "metadata": {},
     "output_type": "execute_result"
    }
   ],
   "source": [
    "effnetb3_test_pred_dicts = pred_and_store(paths=test_data_paths,\n",
    "                   model = effnetb3,\n",
    "                   transform=effnetb3_transforms,\n",
    "                   class_names=class_names,\n",
    "                   device='cpu')\n",
    "effnetb3_test_pred_df = pd.DataFrame(effnetb3_test_pred_dicts)\n",
    "effnetb3_test_pred_df.head()"
   ]
  },
  {
   "cell_type": "code",
   "execution_count": 32,
   "id": "6978bfa0",
   "metadata": {
    "execution": {
     "iopub.execute_input": "2024-07-11T18:37:08.054852Z",
     "iopub.status.busy": "2024-07-11T18:37:08.053989Z",
     "iopub.status.idle": "2024-07-11T18:37:08.061565Z",
     "shell.execute_reply": "2024-07-11T18:37:08.060533Z"
    },
    "id": "ohfbGQTqfPdr",
    "papermill": {
     "duration": 0.204552,
     "end_time": "2024-07-11T18:37:08.063554",
     "exception": false,
     "start_time": "2024-07-11T18:37:07.859002",
     "status": "completed"
    },
    "tags": []
   },
   "outputs": [
    {
     "name": "stdout",
     "output_type": "stream",
     "text": [
      "Average Accuracy: 0.622\n",
      "Average Time: 0.151\n"
     ]
    }
   ],
   "source": [
    "# Calculate Average Accuracy And Average Time Taken\n",
    "print('Average Accuracy:', effnetb3_test_pred_df[\"correct\"].value_counts(normalize=True).max())\n",
    "effnetb3_average_time_per_pred = round(effnetb3_test_pred_df[\"time_for_pred\"].mean(),4)\n",
    "print(\"Average Time:\", effnetb3_average_time_per_pred)"
   ]
  },
  {
   "cell_type": "markdown",
   "id": "3de97f47",
   "metadata": {
    "id": "zGClYIUkflVf",
    "papermill": {
     "duration": 0.141399,
     "end_time": "2024-07-11T18:37:08.352993",
     "exception": false,
     "start_time": "2024-07-11T18:37:08.211594",
     "status": "completed"
    },
    "tags": []
   },
   "source": [
    "## 4.4 EffNetB2 Vs EffNetB3\n",
    "\n"
   ]
  },
  {
   "cell_type": "code",
   "execution_count": 33,
   "id": "5a6abdb3",
   "metadata": {
    "execution": {
     "iopub.execute_input": "2024-07-11T18:37:08.636076Z",
     "iopub.status.busy": "2024-07-11T18:37:08.635228Z",
     "iopub.status.idle": "2024-07-11T18:37:08.639744Z",
     "shell.execute_reply": "2024-07-11T18:37:08.638877Z"
    },
    "id": "Pf_9ivNVdy2X",
    "papermill": {
     "duration": 0.145984,
     "end_time": "2024-07-11T18:37:08.641629",
     "exception": false,
     "start_time": "2024-07-11T18:37:08.495645",
     "status": "completed"
    },
    "tags": []
   },
   "outputs": [],
   "source": [
    "# Add The Results To Stats Dict\n",
    "effnetb3_stats['time_per_pred'] = effnetb3_average_time_per_pred\n",
    "effnetb2_stats['time_per_pred'] = effnetb2_average_time_per_pred"
   ]
  },
  {
   "cell_type": "code",
   "execution_count": 34,
   "id": "760e9998",
   "metadata": {
    "execution": {
     "iopub.execute_input": "2024-07-11T18:37:08.923684Z",
     "iopub.status.busy": "2024-07-11T18:37:08.922946Z",
     "iopub.status.idle": "2024-07-11T18:37:08.927278Z",
     "shell.execute_reply": "2024-07-11T18:37:08.926415Z"
    },
    "id": "IGowvbwAd2J-",
    "papermill": {
     "duration": 0.147018,
     "end_time": "2024-07-11T18:37:08.929251",
     "exception": false,
     "start_time": "2024-07-11T18:37:08.782233",
     "status": "completed"
    },
    "tags": []
   },
   "outputs": [],
   "source": [
    "# Add Model Names To The Dict\n",
    "effnetb3_stats['model']= 'EffNetB3'\n",
    "effnetb2_stats['model'] = 'EffNetB2'"
   ]
  },
  {
   "cell_type": "code",
   "execution_count": 35,
   "id": "be9b43b8",
   "metadata": {
    "execution": {
     "iopub.execute_input": "2024-07-11T18:37:09.217337Z",
     "iopub.status.busy": "2024-07-11T18:37:09.216529Z",
     "iopub.status.idle": "2024-07-11T18:37:09.229865Z",
     "shell.execute_reply": "2024-07-11T18:37:09.228935Z"
    },
    "id": "3RFILtcld42P",
    "papermill": {
     "duration": 0.161382,
     "end_time": "2024-07-11T18:37:09.231885",
     "exception": false,
     "start_time": "2024-07-11T18:37:09.070503",
     "status": "completed"
    },
    "tags": []
   },
   "outputs": [
    {
     "data": {
      "text/html": [
       "<div>\n",
       "<style scoped>\n",
       "    .dataframe tbody tr th:only-of-type {\n",
       "        vertical-align: middle;\n",
       "    }\n",
       "\n",
       "    .dataframe tbody tr th {\n",
       "        vertical-align: top;\n",
       "    }\n",
       "\n",
       "    .dataframe thead th {\n",
       "        text-align: right;\n",
       "    }\n",
       "</style>\n",
       "<table border=\"1\" class=\"dataframe\">\n",
       "  <thead>\n",
       "    <tr style=\"text-align: right;\">\n",
       "      <th></th>\n",
       "      <th>test_loss</th>\n",
       "      <th>test_acc</th>\n",
       "      <th>size</th>\n",
       "      <th>num_params</th>\n",
       "      <th>time_per_pred</th>\n",
       "      <th>model</th>\n",
       "    </tr>\n",
       "  </thead>\n",
       "  <tbody>\n",
       "    <tr>\n",
       "      <th>effnetb3</th>\n",
       "      <td>2.130760</td>\n",
       "      <td>0.619736</td>\n",
       "      <td>41.92</td>\n",
       "      <td>10851469</td>\n",
       "      <td>0.1510</td>\n",
       "      <td>EffNetB3</td>\n",
       "    </tr>\n",
       "    <tr>\n",
       "      <th>effnetb2</th>\n",
       "      <td>2.212508</td>\n",
       "      <td>0.603289</td>\n",
       "      <td>30.35</td>\n",
       "      <td>7843303</td>\n",
       "      <td>0.0996</td>\n",
       "      <td>EffNetB2</td>\n",
       "    </tr>\n",
       "  </tbody>\n",
       "</table>\n",
       "</div>"
      ],
      "text/plain": [
       "          test_loss  test_acc   size  num_params  time_per_pred     model\n",
       "effnetb3   2.130760  0.619736  41.92    10851469         0.1510  EffNetB3\n",
       "effnetb2   2.212508  0.603289  30.35     7843303         0.0996  EffNetB2"
      ]
     },
     "execution_count": 35,
     "metadata": {},
     "output_type": "execute_result"
    }
   ],
   "source": [
    "# Concate The Two DataFrames In One\n",
    "df = pd.DataFrame([effnetb3_stats,effnetb2_stats],index=['effnetb3','effnetb2'])\n",
    "df"
   ]
  },
  {
   "cell_type": "code",
   "execution_count": 36,
   "id": "a370eded",
   "metadata": {
    "execution": {
     "iopub.execute_input": "2024-07-11T18:37:09.535350Z",
     "iopub.status.busy": "2024-07-11T18:37:09.534568Z",
     "iopub.status.idle": "2024-07-11T18:37:09.552283Z",
     "shell.execute_reply": "2024-07-11T18:37:09.551367Z"
    },
    "id": "Cz9HHo4Rd7II",
    "papermill": {
     "duration": 0.171028,
     "end_time": "2024-07-11T18:37:09.554320",
     "exception": false,
     "start_time": "2024-07-11T18:37:09.383292",
     "status": "completed"
    },
    "tags": []
   },
   "outputs": [
    {
     "data": {
      "text/html": [
       "<div>\n",
       "<style scoped>\n",
       "    .dataframe tbody tr th:only-of-type {\n",
       "        vertical-align: middle;\n",
       "    }\n",
       "\n",
       "    .dataframe tbody tr th {\n",
       "        vertical-align: top;\n",
       "    }\n",
       "\n",
       "    .dataframe thead th {\n",
       "        text-align: right;\n",
       "    }\n",
       "</style>\n",
       "<table border=\"1\" class=\"dataframe\">\n",
       "  <thead>\n",
       "    <tr style=\"text-align: right;\">\n",
       "      <th></th>\n",
       "      <th>test_loss</th>\n",
       "      <th>test_acc</th>\n",
       "      <th>size</th>\n",
       "      <th>num_params</th>\n",
       "      <th>time_per_pred</th>\n",
       "    </tr>\n",
       "  </thead>\n",
       "  <tbody>\n",
       "    <tr>\n",
       "      <th>EffNetB3 to EffNetB2 ratios</th>\n",
       "      <td>0.963052</td>\n",
       "      <td>1.027261</td>\n",
       "      <td>1.381219</td>\n",
       "      <td>1.383533</td>\n",
       "      <td>1.516064</td>\n",
       "    </tr>\n",
       "  </tbody>\n",
       "</table>\n",
       "</div>"
      ],
      "text/plain": [
       "                             test_loss  test_acc      size  num_params  \\\n",
       "EffNetB3 to EffNetB2 ratios   0.963052  1.027261  1.381219    1.383533   \n",
       "\n",
       "                             time_per_pred  \n",
       "EffNetB3 to EffNetB2 ratios       1.516064  "
      ]
     },
     "execution_count": 36,
     "metadata": {},
     "output_type": "execute_result"
    }
   ],
   "source": [
    "# Divide EffNetB3 Stats By EffNetB2 Stats\n",
    "pd.DataFrame(data=(df.set_index(\"model\").loc[\"EffNetB3\"] / df.set_index(\"model\").loc[\"EffNetB2\"]),\n",
    "             columns=[\"EffNetB3 to EffNetB2 ratios\"]).T"
   ]
  },
  {
   "cell_type": "markdown",
   "id": "f34fb867",
   "metadata": {
    "id": "a22UFyHWeA-q",
    "papermill": {
     "duration": 0.145956,
     "end_time": "2024-07-11T18:37:09.847904",
     "exception": false,
     "start_time": "2024-07-11T18:37:09.701948",
     "status": "completed"
    },
    "tags": []
   },
   "source": [
    "Visualizing The Speed VS Performance Tradeoff"
   ]
  },
  {
   "cell_type": "code",
   "execution_count": 37,
   "id": "226d0904",
   "metadata": {
    "execution": {
     "iopub.execute_input": "2024-07-11T18:37:10.141794Z",
     "iopub.status.busy": "2024-07-11T18:37:10.140750Z",
     "iopub.status.idle": "2024-07-11T18:37:10.832113Z",
     "shell.execute_reply": "2024-07-11T18:37:10.831134Z"
    },
    "id": "gAdltbg0d97T",
    "papermill": {
     "duration": 0.839809,
     "end_time": "2024-07-11T18:37:10.835096",
     "exception": false,
     "start_time": "2024-07-11T18:37:09.995287",
     "status": "completed"
    },
    "tags": []
   },
   "outputs": [
    {
     "data": {
      "image/png": "[encoded data removed]",
      "text/plain": [
       "<Figure size 1200x800 with 1 Axes>"
      ]
     },
     "metadata": {},
     "output_type": "display_data"
    }
   ],
   "source": [
    "fig, ax = plt.subplots(figsize=(12,8))\n",
    "scatter = ax.scatter(data=df,x='time_per_pred',y='test_acc',c=['blue','orange'],s='size')\n",
    "ax.set_title(\"Infererence Speed vs Performance\",fontsize=18)\n",
    "ax.set_xlabel(\"Prediction time per image (secounds)\",fontsize=14)\n",
    "ax.set_ylabel(\"Test accuracy (%)\",fontsize=14)\n",
    "ax.tick_params(axis='both', labelsize=12)\n",
    "ax.tick_params(axis='both', labelsize=12)\n",
    "ax.grid(True)\n",
    "for index, row in df.iterrows():\n",
    "  ax.annotate(text=row.model,xy=(row.time_per_pred,row.test_acc),size=12)\n",
    "handels, labels = scatter.legend_elements(prop='sizes',alpha=0.5)\n",
    "model_size_legend = ax.legend(handles=handels, labels=labels,loc='lower right',title='Model Size (MB)',fontsize=12)\n",
    "fig.add_artist(model_size_legend)\n",
    "plt.savefig(\"speed_vs_accuracy.png\")"
   ]
  },
  {
   "cell_type": "markdown",
   "id": "6489f46e",
   "metadata": {
    "id": "7aX28O_agWwT",
    "papermill": {
     "duration": 0.14413,
     "end_time": "2024-07-11T18:37:11.138083",
     "exception": false,
     "start_time": "2024-07-11T18:37:10.993953",
     "status": "completed"
    },
    "tags": []
   },
   "source": [
    "# 5 Implementing EffNetB3 To Work In HuggingFace Using Gradio SDK"
   ]
  },
  {
   "cell_type": "markdown",
   "id": "e2eaa63b",
   "metadata": {
    "id": "0V-d9Z2fhFTL",
    "papermill": {
     "duration": 0.14459,
     "end_time": "2024-07-11T18:37:11.425876",
     "exception": false,
     "start_time": "2024-07-11T18:37:11.281286",
     "status": "completed"
    },
    "tags": []
   },
   "source": [
    "To Upload The App We Must Put Every Thing Into One Directory\n",
    "\n",
    "- FoodClassifier101/\n",
    "- ├── model.pth\n",
    "- ├── app.py\n",
    "- ├── examples/\n",
    "- │ ├── example_1.jpg\n",
    "- │ ├── example_2.jpg\n",
    "- │ └── example_3.jpg\n",
    "- ├── model.py\n",
    "- └── requirements.txt"
   ]
  },
  {
   "cell_type": "code",
   "execution_count": 38,
   "id": "29bab880",
   "metadata": {
    "execution": {
     "iopub.execute_input": "2024-07-11T18:37:11.709526Z",
     "iopub.status.busy": "2024-07-11T18:37:11.708871Z",
     "iopub.status.idle": "2024-07-11T18:37:12.777205Z",
     "shell.execute_reply": "2024-07-11T18:37:12.775879Z"
    },
    "id": "3MsTxLemggz7",
    "papermill": {
     "duration": 1.211313,
     "end_time": "2024-07-11T18:37:12.779725",
     "exception": false,
     "start_time": "2024-07-11T18:37:11.568412",
     "status": "completed"
    },
    "tags": []
   },
   "outputs": [],
   "source": [
    "# Make FoodClassifier101 Folder\n",
    "foodclassifier101_path = Path(\"FoodClassifier101/\")\n",
    "foodclassifier101_path.mkdir(parents=True, exist_ok=True)\n",
    "\n",
    "# Move Trained Model To Folder\n",
    "!mv models/effnetb3.pth FoodClassifier101"
   ]
  },
  {
   "cell_type": "code",
   "execution_count": 39,
   "id": "0397bc5f",
   "metadata": {
    "execution": {
     "iopub.execute_input": "2024-07-11T18:37:13.071880Z",
     "iopub.status.busy": "2024-07-11T18:37:13.071484Z",
     "iopub.status.idle": "2024-07-11T18:37:13.078722Z",
     "shell.execute_reply": "2024-07-11T18:37:13.077883Z"
    },
    "id": "5sp46fSulEhJ",
    "papermill": {
     "duration": 0.156055,
     "end_time": "2024-07-11T18:37:13.080548",
     "exception": false,
     "start_time": "2024-07-11T18:37:12.924493",
     "status": "completed"
    },
    "tags": []
   },
   "outputs": [
    {
     "name": "stdout",
     "output_type": "stream",
     "text": [
      "[INFO] Saving Food101 class names to FoodClassifier101/class_names.txt\n"
     ]
    }
   ],
   "source": [
    "# Create path to Food101 class names\n",
    "foodclassifier101_class_names_path = foodclassifier101_path / \"class_names.txt\"\n",
    "\n",
    "# Write Food101 class names list to file\n",
    "with open(foodclassifier101_class_names_path, \"w\") as f:\n",
    "    print(f\"[INFO] Saving Food101 class names to {foodclassifier101_class_names_path}\")\n",
    "    f.write(\"\\n\".join(class_names)) # leave a new line between each class"
   ]
  },
  {
   "cell_type": "markdown",
   "id": "3cf5c5b4",
   "metadata": {
    "id": "rgOILfQ9l_yE",
    "papermill": {
     "duration": 0.144628,
     "end_time": "2024-07-11T18:37:13.373595",
     "exception": false,
     "start_time": "2024-07-11T18:37:13.228967",
     "status": "completed"
    },
    "tags": []
   },
   "source": [
    "Make Model.py File"
   ]
  },
  {
   "cell_type": "code",
   "execution_count": 40,
   "id": "e585ad58",
   "metadata": {
    "execution": {
     "iopub.execute_input": "2024-07-11T18:37:13.662474Z",
     "iopub.status.busy": "2024-07-11T18:37:13.661619Z",
     "iopub.status.idle": "2024-07-11T18:37:13.669090Z",
     "shell.execute_reply": "2024-07-11T18:37:13.668202Z"
    },
    "id": "2d4h4P79iVoc",
    "papermill": {
     "duration": 0.152928,
     "end_time": "2024-07-11T18:37:13.671096",
     "exception": false,
     "start_time": "2024-07-11T18:37:13.518168",
     "status": "completed"
    },
    "tags": []
   },
   "outputs": [
    {
     "name": "stdout",
     "output_type": "stream",
     "text": [
      "Writing FoodClassifier101/model.py\n"
     ]
    }
   ],
   "source": [
    "%%writefile FoodClassifier101/model.py\n",
    "\n",
    "import torch\n",
    "import torchvision\n",
    "from torch import nn\n",
    "\n",
    "\n",
    "def create_effnetb3_model(num_classes):\n",
    "\n",
    "    weights = torchvision.models.EfficientNet_B3_Weights.DEFAULT\n",
    "    transforms = weights.transforms()\n",
    "    model = torchvision.models.efficientnet_b3(weights=weights)\n",
    "\n",
    "    for param in model.parameters():\n",
    "        param.requires_grad = False\n",
    "\n",
    "    model.classifier = nn.Sequential(\n",
    "        nn.Dropout(p=0.2, inplace=True),\n",
    "        nn.Linear(in_features=1536, out_features=num_classes),\n",
    "    )\n",
    "\n",
    "    return model, transforms"
   ]
  },
  {
   "cell_type": "markdown",
   "id": "8f3ffa81",
   "metadata": {
    "id": "6rZ8FQptmLcx",
    "papermill": {
     "duration": 0.147881,
     "end_time": "2024-07-11T18:37:13.968518",
     "exception": false,
     "start_time": "2024-07-11T18:37:13.820637",
     "status": "completed"
    },
    "tags": []
   },
   "source": [
    "Make App.py File"
   ]
  },
  {
   "cell_type": "code",
   "execution_count": 41,
   "id": "c5a6262f",
   "metadata": {
    "execution": {
     "iopub.execute_input": "2024-07-11T18:37:14.263009Z",
     "iopub.status.busy": "2024-07-11T18:37:14.262260Z",
     "iopub.status.idle": "2024-07-11T18:37:14.269068Z",
     "shell.execute_reply": "2024-07-11T18:37:14.268127Z"
    },
    "id": "mikWdWkBjFia",
    "papermill": {
     "duration": 0.157605,
     "end_time": "2024-07-11T18:37:14.270997",
     "exception": false,
     "start_time": "2024-07-11T18:37:14.113392",
     "status": "completed"
    },
    "tags": []
   },
   "outputs": [
    {
     "name": "stdout",
     "output_type": "stream",
     "text": [
      "Writing FoodClassifier101/app.py\n"
     ]
    }
   ],
   "source": [
    "%%writefile FoodClassifier101/app.py\n",
    "\n",
    "import gradio as gr\n",
    "import torch\n",
    "import os\n",
    "from model import create_effnetb3_model\n",
    "from timeit import default_timer as timer\n",
    "from typing import Tuple, Dict\n",
    "\n",
    "with open('class_names.txt',\"r\") as f :\n",
    "    class_names=  [food.strip() for food in f.readlines()]\n",
    "\n",
    "effnetb3, effnetb3_transforms = create_effnetb3_model(num_classes=101)\n",
    "\n",
    "effnetb3.load_state_dict(torch.load(f='effnetb3.pth',map_location=torch.device('cpu')))\n",
    "\n",
    "\n",
    "def predict(img):\n",
    "  start = timer()\n",
    "\n",
    "  img_tensor = effnetb3_transforms(img).unsqueeze(dim=0)\n",
    "\n",
    "  effnetb3.eval()\n",
    "  with torch.inference_mode():\n",
    "    pred_probs = torch.softmax(effnetb3(img_tensor), dim=1)\n",
    "    pred_label = torch.argmax(pred_probs, dim=1)\n",
    "\n",
    "  pred_labels_and_probs = {class_names[i]: float(pred_probs[0][i]) for i in range(len(class_names))}\n",
    "\n",
    "  end = timer()\n",
    "  pred_time = round(end - start,4)\n",
    "\n",
    "  return pred_labels_and_probs, pred_time\n",
    "\n",
    "\n",
    "title = \"FoodClassifier101 🍕📸\"\n",
    "description = \"An EfficientNetB3-based computer vision model designed to classify food images into 101 distinct categories.\"\n",
    "example_list = [[\"examples/\" + example] for example in os.listdir(\"examples\")]\n",
    "demo = gr.Interface(\n",
    "    fn=predict,\n",
    "    inputs=gr.Image(type=\"pil\"),\n",
    "    outputs=[\n",
    "        gr.Label(num_top_classes=5, label=\"Predictions\"),\n",
    "        gr.Number(label=\"Prediction time (s)\"),\n",
    "    ],\n",
    "    title=title,\n",
    "    description=description,\n",
    "    examples=example_list \n",
    ")\n",
    "\n",
    "# Launch the app!\n",
    "demo.launch()"
   ]
  },
  {
   "cell_type": "code",
   "execution_count": 42,
   "id": "222f9318",
   "metadata": {
    "execution": {
     "iopub.execute_input": "2024-07-11T18:37:14.564090Z",
     "iopub.status.busy": "2024-07-11T18:37:14.563693Z",
     "iopub.status.idle": "2024-07-11T18:37:14.569859Z",
     "shell.execute_reply": "2024-07-11T18:37:14.568824Z"
    },
    "id": "eCYbLIDciV7C",
    "papermill": {
     "duration": 0.154398,
     "end_time": "2024-07-11T18:37:14.571876",
     "exception": false,
     "start_time": "2024-07-11T18:37:14.417478",
     "status": "completed"
    },
    "tags": []
   },
   "outputs": [
    {
     "name": "stdout",
     "output_type": "stream",
     "text": [
      "Writing FoodClassifier101/requirements.txt\n"
     ]
    }
   ],
   "source": [
    "%%writefile FoodClassifier101/requirements.txt\n",
    "torch>=2.0.0\n",
    "torchvision>=0.15.0\n",
    "numpy<2\n",
    "gradio>=3.0.0\n",
    "anyio>=3.0.0\n",
    "fsspec>=2023.1.0"
   ]
  },
  {
   "cell_type": "code",
   "execution_count": 43,
   "id": "9106b5eb",
   "metadata": {
    "execution": {
     "iopub.execute_input": "2024-07-11T18:37:14.915469Z",
     "iopub.status.busy": "2024-07-11T18:37:14.914705Z",
     "iopub.status.idle": "2024-07-11T18:37:18.366698Z",
     "shell.execute_reply": "2024-07-11T18:37:18.364978Z"
    },
    "id": "SNcb7wFblt7k",
    "papermill": {
     "duration": 3.655968,
     "end_time": "2024-07-11T18:37:18.371567",
     "exception": false,
     "start_time": "2024-07-11T18:37:14.715599",
     "status": "completed"
    },
    "tags": []
   },
   "outputs": [
    {
     "name": "stdout",
     "output_type": "stream",
     "text": [
      "  adding: app.py (deflated 50%)\r\n",
      "  adding: class_names.txt (deflated 48%)\r\n",
      "  adding: effnetb3.pth (deflated 8%)\r\n",
      "  adding: model.py (deflated 46%)\r\n",
      "  adding: requirements.txt (deflated 18%)\r\n"
     ]
    }
   ],
   "source": [
    "!cd FoodClassifier101 && zip -r ../FoodClassifier101.zip * -x \"*.pyc\" \"*.ipynb\" \"*__pycache__*\" \"*ipynb_checkpoints*\"\n"
   ]
  }
 ],
 "metadata": {
  "accelerator": "GPU",
  "colab": {
   "gpuType": "T4",
   "provenance": []
  },
  "kaggle": {
   "accelerator": "gpu",
   "dataSources": [],
   "dockerImageVersionId": 30747,
   "isGpuEnabled": true,
   "isInternetEnabled": true,
   "language": "python",
   "sourceType": "notebook"
  },
  "kernelspec": {
   "display_name": "Python 3",
   "language": "python",
   "name": "python3"
  },
  "language_info": {
   "codemirror_mode": {
    "name": "ipython",
    "version": 3
   },
   "file_extension": ".py",
   "mimetype": "text/x-python",
   "name": "python",
   "nbconvert_exporter": "python",
   "pygments_lexer": "ipython3",
   "version": "3.10.13"
  },
  "papermill": {
   "default_parameters": {},
   "duration": 2634.767278,
   "end_time": "2024-07-11T18:37:20.566108",
   "environment_variables": {},
   "exception": null,
   "input_path": "__notebook__.ipynb",
   "output_path": "__notebook__.ipynb",
   "parameters": {},
   "start_time": "2024-07-11T17:53:25.798830",
   "version": "2.5.0"
  },
  "widgets": {
   "application/vnd.jupyter.widget-state+json": {
    "state": {
     "061219e34e1b4fe79ff9f6377d44e9c7": {
      "model_module": "@jupyter-widgets/controls",
      "model_module_version": "1.5.0",
      "model_name": "ProgressStyleModel",
      "state": {
       "_model_module": "@jupyter-widgets/controls",
       "_model_module_version": "1.5.0",
       "_model_name": "ProgressStyleModel",
       "_view_count": null,
       "_view_module": "@jupyter-widgets/base",
       "_view_module_version": "1.2.0",
       "_view_name": "StyleView",
       "bar_color": null,
       "description_width": ""
      }
     },
     "08e4920840e849528363304355360457": {
      "model_module": "@jupyter-widgets/controls",
      "model_module_version": "1.5.0",
      "model_name": "HBoxModel",
      "state": {
       "_dom_classes": [],
       "_model_module": "@jupyter-widgets/controls",
       "_model_module_version": "1.5.0",
       "_model_name": "HBoxModel",
       "_view_count": null,
       "_view_module": "@jupyter-widgets/controls",
       "_view_module_version": "1.5.0",
       "_view_name": "HBoxView",
       "box_style": "",
       "children": [
        "IPY_MODEL_768efcab7ea645cfafcf0a00ff14cf07",
        "IPY_MODEL_a470efd6b3c742218e8bf1b9de0df163",
        "IPY_MODEL_4056049e60ed4fbba7f2081d0e99883d"
       ],
       "layout": "IPY_MODEL_61806f13073c45b09cc62d0532c25d6e"
      }
     },
     "098ac87f5e1742ac9a06ef174e64238b": {
      "model_module": "@jupyter-widgets/controls",
      "model_module_version": "1.5.0",
      "model_name": "ProgressStyleModel",
      "state": {
       "_model_module": "@jupyter-widgets/controls",
       "_model_module_version": "1.5.0",
       "_model_name": "ProgressStyleModel",
       "_view_count": null,
       "_view_module": "@jupyter-widgets/base",
       "_view_module_version": "1.2.0",
       "_view_name": "StyleView",
       "bar_color": null,
       "description_width": ""
      }
     },
     "23a0b407653e4e06867fc9a99d671271": {
      "model_module": "@jupyter-widgets/base",
      "model_module_version": "1.2.0",
      "model_name": "LayoutModel",
      "state": {
       "_model_module": "@jupyter-widgets/base",
       "_model_module_version": "1.2.0",
       "_model_name": "LayoutModel",
       "_view_count": null,
       "_view_module": "@jupyter-widgets/base",
       "_view_module_version": "1.2.0",
       "_view_name": "LayoutView",
       "align_content": null,
       "align_items": null,
       "align_self": null,
       "border": null,
       "bottom": null,
       "display": null,
       "flex": null,
       "flex_flow": null,
       "grid_area": null,
       "grid_auto_columns": null,
       "grid_auto_flow": null,
       "grid_auto_rows": null,
       "grid_column": null,
       "grid_gap": null,
       "grid_row": null,
       "grid_template_areas": null,
       "grid_template_columns": null,
       "grid_template_rows": null,
       "height": null,
       "justify_content": null,
       "justify_items": null,
       "left": null,
       "margin": null,
       "max_height": null,
       "max_width": null,
       "min_height": null,
       "min_width": null,
       "object_fit": null,
       "object_position": null,
       "order": null,
       "overflow": null,
       "overflow_x": null,
       "overflow_y": null,
       "padding": null,
       "right": null,
       "top": null,
       "visibility": null,
       "width": null
      }
     },
     "25d8f754aacd4529922d62dd8997a12d": {
      "model_module": "@jupyter-widgets/controls",
      "model_module_version": "1.5.0",
      "model_name": "HTMLModel",
      "state": {
       "_dom_classes": [],
       "_model_module": "@jupyter-widgets/controls",
       "_model_module_version": "1.5.0",
       "_model_name": "HTMLModel",
       "_view_count": null,
       "_view_module": "@jupyter-widgets/controls",
       "_view_module_version": "1.5.0",
       "_view_name": "HTMLView",
       "description": "",
       "description_tooltip": null,
       "layout": "IPY_MODEL_acc76b01cd6244418f260ebef2448032",
       "placeholder": "​",
       "style": "IPY_MODEL_ccce2262dae1444e99ee3ca566f00dcf",
       "value": " 10/10 [18:17&lt;00:00, 109.82s/it]"
      }
     },
     "2f79489b6b1943e6bd136ca6f961f481": {
      "model_module": "@jupyter-widgets/controls",
      "model_module_version": "1.5.0",
      "model_name": "HBoxModel",
      "state": {
       "_dom_classes": [],
       "_model_module": "@jupyter-widgets/controls",
       "_model_module_version": "1.5.0",
       "_model_name": "HBoxModel",
       "_view_count": null,
       "_view_module": "@jupyter-widgets/controls",
       "_view_module_version": "1.5.0",
       "_view_name": "HBoxView",
       "box_style": "",
       "children": [
        "IPY_MODEL_4c22dc23eb4d4e9582d62e73edc9c12a",
        "IPY_MODEL_53776d93289c47f8890c6aff2c2cac72",
        "IPY_MODEL_25d8f754aacd4529922d62dd8997a12d"
       ],
       "layout": "IPY_MODEL_5f017bd178f143c6aed42a50ccadeb13"
      }
     },
     "390b112a296546eaae40a77029741bec": {
      "model_module": "@jupyter-widgets/controls",
      "model_module_version": "1.5.0",
      "model_name": "HBoxModel",
      "state": {
       "_dom_classes": [],
       "_model_module": "@jupyter-widgets/controls",
       "_model_module_version": "1.5.0",
       "_model_name": "HBoxModel",
       "_view_count": null,
       "_view_module": "@jupyter-widgets/controls",
       "_view_module_version": "1.5.0",
       "_view_name": "HBoxView",
       "box_style": "",
       "children": [
        "IPY_MODEL_586cf7812b9e48d5ab9d3483b377e26e",
        "IPY_MODEL_d87d3692a84144808f47b73086fec707",
        "IPY_MODEL_cde18099b54c4f86bf4c78dbbf4f62e9"
       ],
       "layout": "IPY_MODEL_f2978b9194cf4b6597481e214924bfb8"
      }
     },
     "4056049e60ed4fbba7f2081d0e99883d": {
      "model_module": "@jupyter-widgets/controls",
      "model_module_version": "1.5.0",
      "model_name": "HTMLModel",
      "state": {
       "_dom_classes": [],
       "_model_module": "@jupyter-widgets/controls",
       "_model_module_version": "1.5.0",
       "_model_name": "HTMLModel",
       "_view_count": null,
       "_view_module": "@jupyter-widgets/controls",
       "_view_module_version": "1.5.0",
       "_view_name": "HTMLView",
       "description": "",
       "description_tooltip": null,
       "layout": "IPY_MODEL_c3589b43044b4dbaa487d5acb2e9d5b1",
       "placeholder": "​",
       "style": "IPY_MODEL_a57f2cb2e0c74baaaa9874173d82a7fd",
       "value": " 10/10 [16:37&lt;00:00, 98.88s/it]"
      }
     },
     "4371b046b33644abb53490f85c4868b1": {
      "model_module": "@jupyter-widgets/controls",
      "model_module_version": "1.5.0",
      "model_name": "DescriptionStyleModel",
      "state": {
       "_model_module": "@jupyter-widgets/controls",
       "_model_module_version": "1.5.0",
       "_model_name": "DescriptionStyleModel",
       "_view_count": null,
       "_view_module": "@jupyter-widgets/base",
       "_view_module_version": "1.2.0",
       "_view_name": "StyleView",
       "description_width": ""
      }
     },
     "469c3f1954f54ccd9d72e70c959e6083": {
      "model_module": "@jupyter-widgets/controls",
      "model_module_version": "1.5.0",
      "model_name": "DescriptionStyleModel",
      "state": {
       "_model_module": "@jupyter-widgets/controls",
       "_model_module_version": "1.5.0",
       "_model_name": "DescriptionStyleModel",
       "_view_count": null,
       "_view_module": "@jupyter-widgets/base",
       "_view_module_version": "1.2.0",
       "_view_name": "StyleView",
       "description_width": ""
      }
     },
     "4c22dc23eb4d4e9582d62e73edc9c12a": {
      "model_module": "@jupyter-widgets/controls",
      "model_module_version": "1.5.0",
      "model_name": "HTMLModel",
      "state": {
       "_dom_classes": [],
       "_model_module": "@jupyter-widgets/controls",
       "_model_module_version": "1.5.0",
       "_model_name": "HTMLModel",
       "_view_count": null,
       "_view_module": "@jupyter-widgets/controls",
       "_view_module_version": "1.5.0",
       "_view_name": "HTMLView",
       "description": "",
       "description_tooltip": null,
       "layout": "IPY_MODEL_80e09926ec834758ae61531ae367f7c1",
       "placeholder": "​",
       "style": "IPY_MODEL_592f8f98963d43349bf1ba93c2e8ee7e",
       "value": "100%"
      }
     },
     "53776d93289c47f8890c6aff2c2cac72": {
      "model_module": "@jupyter-widgets/controls",
      "model_module_version": "1.5.0",
      "model_name": "FloatProgressModel",
      "state": {
       "_dom_classes": [],
       "_model_module": "@jupyter-widgets/controls",
       "_model_module_version": "1.5.0",
       "_model_name": "FloatProgressModel",
       "_view_count": null,
       "_view_module": "@jupyter-widgets/controls",
       "_view_module_version": "1.5.0",
       "_view_name": "ProgressView",
       "bar_style": "success",
       "description": "",
       "description_tooltip": null,
       "layout": "IPY_MODEL_75c6cf5b22a147198acb2f5234c8474d",
       "max": 10.0,
       "min": 0.0,
       "orientation": "horizontal",
       "style": "IPY_MODEL_061219e34e1b4fe79ff9f6377d44e9c7",
       "value": 10.0
      }
     },
     "586cf7812b9e48d5ab9d3483b377e26e": {
      "model_module": "@jupyter-widgets/controls",
      "model_module_version": "1.5.0",
      "model_name": "HTMLModel",
      "state": {
       "_dom_classes": [],
       "_model_module": "@jupyter-widgets/controls",
       "_model_module_version": "1.5.0",
       "_model_name": "HTMLModel",
       "_view_count": null,
       "_view_module": "@jupyter-widgets/controls",
       "_view_module_version": "1.5.0",
       "_view_name": "HTMLView",
       "description": "",
       "description_tooltip": null,
       "layout": "IPY_MODEL_9b064f0b14ec407db70fa81ba21cc17c",
       "placeholder": "​",
       "style": "IPY_MODEL_4371b046b33644abb53490f85c4868b1",
       "value": "100%"
      }
     },
     "592f8f98963d43349bf1ba93c2e8ee7e": {
      "model_module": "@jupyter-widgets/controls",
      "model_module_version": "1.5.0",
      "model_name": "DescriptionStyleModel",
      "state": {
       "_model_module": "@jupyter-widgets/controls",
       "_model_module_version": "1.5.0",
       "_model_name": "DescriptionStyleModel",
       "_view_count": null,
       "_view_module": "@jupyter-widgets/base",
       "_view_module_version": "1.2.0",
       "_view_name": "StyleView",
       "description_width": ""
      }
     },
     "5f017bd178f143c6aed42a50ccadeb13": {
      "model_module": "@jupyter-widgets/base",
      "model_module_version": "1.2.0",
      "model_name": "LayoutModel",
      "state": {
       "_model_module": "@jupyter-widgets/base",
       "_model_module_version": "1.2.0",
       "_model_name": "LayoutModel",
       "_view_count": null,
       "_view_module": "@jupyter-widgets/base",
       "_view_module_version": "1.2.0",
       "_view_name": "LayoutView",
       "align_content": null,
       "align_items": null,
       "align_self": null,
       "border": null,
       "bottom": null,
       "display": null,
       "flex": null,
       "flex_flow": null,
       "grid_area": null,
       "grid_auto_columns": null,
       "grid_auto_flow": null,
       "grid_auto_rows": null,
       "grid_column": null,
       "grid_gap": null,
       "grid_row": null,
       "grid_template_areas": null,
       "grid_template_columns": null,
       "grid_template_rows": null,
       "height": null,
       "justify_content": null,
       "justify_items": null,
       "left": null,
       "margin": null,
       "max_height": null,
       "max_width": null,
       "min_height": null,
       "min_width": null,
       "object_fit": null,
       "object_position": null,
       "order": null,
       "overflow": null,
       "overflow_x": null,
       "overflow_y": null,
       "padding": null,
       "right": null,
       "top": null,
       "visibility": null,
       "width": null
      }
     },
     "5f0efdd243434cb4a9fe490ad58dbe34": {
      "model_module": "@jupyter-widgets/controls",
      "model_module_version": "1.5.0",
      "model_name": "ProgressStyleModel",
      "state": {
       "_model_module": "@jupyter-widgets/controls",
       "_model_module_version": "1.5.0",
       "_model_name": "ProgressStyleModel",
       "_view_count": null,
       "_view_module": "@jupyter-widgets/base",
       "_view_module_version": "1.2.0",
       "_view_name": "StyleView",
       "bar_color": null,
       "description_width": ""
      }
     },
     "61806f13073c45b09cc62d0532c25d6e": {
      "model_module": "@jupyter-widgets/base",
      "model_module_version": "1.2.0",
      "model_name": "LayoutModel",
      "state": {
       "_model_module": "@jupyter-widgets/base",
       "_model_module_version": "1.2.0",
       "_model_name": "LayoutModel",
       "_view_count": null,
       "_view_module": "@jupyter-widgets/base",
       "_view_module_version": "1.2.0",
       "_view_name": "LayoutView",
       "align_content": null,
       "align_items": null,
       "align_self": null,
       "border": null,
       "bottom": null,
       "display": null,
       "flex": null,
       "flex_flow": null,
       "grid_area": null,
       "grid_auto_columns": null,
       "grid_auto_flow": null,
       "grid_auto_rows": null,
       "grid_column": null,
       "grid_gap": null,
       "grid_row": null,
       "grid_template_areas": null,
       "grid_template_columns": null,
       "grid_template_rows": null,
       "height": null,
       "justify_content": null,
       "justify_items": null,
       "left": null,
       "margin": null,
       "max_height": null,
       "max_width": null,
       "min_height": null,
       "min_width": null,
       "object_fit": null,
       "object_position": null,
       "order": null,
       "overflow": null,
       "overflow_x": null,
       "overflow_y": null,
       "padding": null,
       "right": null,
       "top": null,
       "visibility": null,
       "width": null
      }
     },
     "6f3a9b2688e647bdadd269e916d915ca": {
      "model_module": "@jupyter-widgets/base",
      "model_module_version": "1.2.0",
      "model_name": "LayoutModel",
      "state": {
       "_model_module": "@jupyter-widgets/base",
       "_model_module_version": "1.2.0",
       "_model_name": "LayoutModel",
       "_view_count": null,
       "_view_module": "@jupyter-widgets/base",
       "_view_module_version": "1.2.0",
       "_view_name": "LayoutView",
       "align_content": null,
       "align_items": null,
       "align_self": null,
       "border": null,
       "bottom": null,
       "display": null,
       "flex": null,
       "flex_flow": null,
       "grid_area": null,
       "grid_auto_columns": null,
       "grid_auto_flow": null,
       "grid_auto_rows": null,
       "grid_column": null,
       "grid_gap": null,
       "grid_row": null,
       "grid_template_areas": null,
       "grid_template_columns": null,
       "grid_template_rows": null,
       "height": null,
       "justify_content": null,
       "justify_items": null,
       "left": null,
       "margin": null,
       "max_height": null,
       "max_width": null,
       "min_height": null,
       "min_width": null,
       "object_fit": null,
       "object_position": null,
       "order": null,
       "overflow": null,
       "overflow_x": null,
       "overflow_y": null,
       "padding": null,
       "right": null,
       "top": null,
       "visibility": null,
       "width": null
      }
     },
     "75c6cf5b22a147198acb2f5234c8474d": {
      "model_module": "@jupyter-widgets/base",
      "model_module_version": "1.2.0",
      "model_name": "LayoutModel",
      "state": {
       "_model_module": "@jupyter-widgets/base",
       "_model_module_version": "1.2.0",
       "_model_name": "LayoutModel",
       "_view_count": null,
       "_view_module": "@jupyter-widgets/base",
       "_view_module_version": "1.2.0",
       "_view_name": "LayoutView",
       "align_content": null,
       "align_items": null,
       "align_self": null,
       "border": null,
       "bottom": null,
       "display": null,
       "flex": null,
       "flex_flow": null,
       "grid_area": null,
       "grid_auto_columns": null,
       "grid_auto_flow": null,
       "grid_auto_rows": null,
       "grid_column": null,
       "grid_gap": null,
       "grid_row": null,
       "grid_template_areas": null,
       "grid_template_columns": null,
       "grid_template_rows": null,
       "height": null,
       "justify_content": null,
       "justify_items": null,
       "left": null,
       "margin": null,
       "max_height": null,
       "max_width": null,
       "min_height": null,
       "min_width": null,
       "object_fit": null,
       "object_position": null,
       "order": null,
       "overflow": null,
       "overflow_x": null,
       "overflow_y": null,
       "padding": null,
       "right": null,
       "top": null,
       "visibility": null,
       "width": null
      }
     },
     "760c5650035746389a40bf56ff5206da": {
      "model_module": "@jupyter-widgets/controls",
      "model_module_version": "1.5.0",
      "model_name": "DescriptionStyleModel",
      "state": {
       "_model_module": "@jupyter-widgets/controls",
       "_model_module_version": "1.5.0",
       "_model_name": "DescriptionStyleModel",
       "_view_count": null,
       "_view_module": "@jupyter-widgets/base",
       "_view_module_version": "1.2.0",
       "_view_name": "StyleView",
       "description_width": ""
      }
     },
     "768efcab7ea645cfafcf0a00ff14cf07": {
      "model_module": "@jupyter-widgets/controls",
      "model_module_version": "1.5.0",
      "model_name": "HTMLModel",
      "state": {
       "_dom_classes": [],
       "_model_module": "@jupyter-widgets/controls",
       "_model_module_version": "1.5.0",
       "_model_name": "HTMLModel",
       "_view_count": null,
       "_view_module": "@jupyter-widgets/controls",
       "_view_module_version": "1.5.0",
       "_view_name": "HTMLView",
       "description": "",
       "description_tooltip": null,
       "layout": "IPY_MODEL_95888898e0cb4008b351dca93b656fb8",
       "placeholder": "​",
       "style": "IPY_MODEL_469c3f1954f54ccd9d72e70c959e6083",
       "value": "100%"
      }
     },
     "787be34178164755a80ec590caa99971": {
      "model_module": "@jupyter-widgets/controls",
      "model_module_version": "1.5.0",
      "model_name": "HTMLModel",
      "state": {
       "_dom_classes": [],
       "_model_module": "@jupyter-widgets/controls",
       "_model_module_version": "1.5.0",
       "_model_name": "HTMLModel",
       "_view_count": null,
       "_view_module": "@jupyter-widgets/controls",
       "_view_module_version": "1.5.0",
       "_view_name": "HTMLView",
       "description": "",
       "description_tooltip": null,
       "layout": "IPY_MODEL_23a0b407653e4e06867fc9a99d671271",
       "placeholder": "​",
       "style": "IPY_MODEL_760c5650035746389a40bf56ff5206da",
       "value": " 1000/1000 [02:31&lt;00:00,  6.28it/s]"
      }
     },
     "80e09926ec834758ae61531ae367f7c1": {
      "model_module": "@jupyter-widgets/base",
      "model_module_version": "1.2.0",
      "model_name": "LayoutModel",
      "state": {
       "_model_module": "@jupyter-widgets/base",
       "_model_module_version": "1.2.0",
       "_model_name": "LayoutModel",
       "_view_count": null,
       "_view_module": "@jupyter-widgets/base",
       "_view_module_version": "1.2.0",
       "_view_name": "LayoutView",
       "align_content": null,
       "align_items": null,
       "align_self": null,
       "border": null,
       "bottom": null,
       "display": null,
       "flex": null,
       "flex_flow": null,
       "grid_area": null,
       "grid_auto_columns": null,
       "grid_auto_flow": null,
       "grid_auto_rows": null,
       "grid_column": null,
       "grid_gap": null,
       "grid_row": null,
       "grid_template_areas": null,
       "grid_template_columns": null,
       "grid_template_rows": null,
       "height": null,
       "justify_content": null,
       "justify_items": null,
       "left": null,
       "margin": null,
       "max_height": null,
       "max_width": null,
       "min_height": null,
       "min_width": null,
       "object_fit": null,
       "object_position": null,
       "order": null,
       "overflow": null,
       "overflow_x": null,
       "overflow_y": null,
       "padding": null,
       "right": null,
       "top": null,
       "visibility": null,
       "width": null
      }
     },
     "90e4725c899e4e64a1e1ebfae233d695": {
      "model_module": "@jupyter-widgets/controls",
      "model_module_version": "1.5.0",
      "model_name": "FloatProgressModel",
      "state": {
       "_dom_classes": [],
       "_model_module": "@jupyter-widgets/controls",
       "_model_module_version": "1.5.0",
       "_model_name": "FloatProgressModel",
       "_view_count": null,
       "_view_module": "@jupyter-widgets/controls",
       "_view_module_version": "1.5.0",
       "_view_name": "ProgressView",
       "bar_style": "success",
       "description": "",
       "description_tooltip": null,
       "layout": "IPY_MODEL_b7da598130e449eea0df39b0d45fa640",
       "max": 1000.0,
       "min": 0.0,
       "orientation": "horizontal",
       "style": "IPY_MODEL_5f0efdd243434cb4a9fe490ad58dbe34",
       "value": 1000.0
      }
     },
     "95888898e0cb4008b351dca93b656fb8": {
      "model_module": "@jupyter-widgets/base",
      "model_module_version": "1.2.0",
      "model_name": "LayoutModel",
      "state": {
       "_model_module": "@jupyter-widgets/base",
       "_model_module_version": "1.2.0",
       "_model_name": "LayoutModel",
       "_view_count": null,
       "_view_module": "@jupyter-widgets/base",
       "_view_module_version": "1.2.0",
       "_view_name": "LayoutView",
       "align_content": null,
       "align_items": null,
       "align_self": null,
       "border": null,
       "bottom": null,
       "display": null,
       "flex": null,
       "flex_flow": null,
       "grid_area": null,
       "grid_auto_columns": null,
       "grid_auto_flow": null,
       "grid_auto_rows": null,
       "grid_column": null,
       "grid_gap": null,
       "grid_row": null,
       "grid_template_areas": null,
       "grid_template_columns": null,
       "grid_template_rows": null,
       "height": null,
       "justify_content": null,
       "justify_items": null,
       "left": null,
       "margin": null,
       "max_height": null,
       "max_width": null,
       "min_height": null,
       "min_width": null,
       "object_fit": null,
       "object_position": null,
       "order": null,
       "overflow": null,
       "overflow_x": null,
       "overflow_y": null,
       "padding": null,
       "right": null,
       "top": null,
       "visibility": null,
       "width": null
      }
     },
     "9b064f0b14ec407db70fa81ba21cc17c": {
      "model_module": "@jupyter-widgets/base",
      "model_module_version": "1.2.0",
      "model_name": "LayoutModel",
      "state": {
       "_model_module": "@jupyter-widgets/base",
       "_model_module_version": "1.2.0",
       "_model_name": "LayoutModel",
       "_view_count": null,
       "_view_module": "@jupyter-widgets/base",
       "_view_module_version": "1.2.0",
       "_view_name": "LayoutView",
       "align_content": null,
       "align_items": null,
       "align_self": null,
       "border": null,
       "bottom": null,
       "display": null,
       "flex": null,
       "flex_flow": null,
       "grid_area": null,
       "grid_auto_columns": null,
       "grid_auto_flow": null,
       "grid_auto_rows": null,
       "grid_column": null,
       "grid_gap": null,
       "grid_row": null,
       "grid_template_areas": null,
       "grid_template_columns": null,
       "grid_template_rows": null,
       "height": null,
       "justify_content": null,
       "justify_items": null,
       "left": null,
       "margin": null,
       "max_height": null,
       "max_width": null,
       "min_height": null,
       "min_width": null,
       "object_fit": null,
       "object_position": null,
       "order": null,
       "overflow": null,
       "overflow_x": null,
       "overflow_y": null,
       "padding": null,
       "right": null,
       "top": null,
       "visibility": null,
       "width": null
      }
     },
     "a470efd6b3c742218e8bf1b9de0df163": {
      "model_module": "@jupyter-widgets/controls",
      "model_module_version": "1.5.0",
      "model_name": "FloatProgressModel",
      "state": {
       "_dom_classes": [],
       "_model_module": "@jupyter-widgets/controls",
       "_model_module_version": "1.5.0",
       "_model_name": "FloatProgressModel",
       "_view_count": null,
       "_view_module": "@jupyter-widgets/controls",
       "_view_module_version": "1.5.0",
       "_view_name": "ProgressView",
       "bar_style": "success",
       "description": "",
       "description_tooltip": null,
       "layout": "IPY_MODEL_e7c93057370545acb969cc2451e7bcea",
       "max": 10.0,
       "min": 0.0,
       "orientation": "horizontal",
       "style": "IPY_MODEL_c509d517f83641b0a8b755dd38e7f2aa",
       "value": 10.0
      }
     },
     "a57f2cb2e0c74baaaa9874173d82a7fd": {
      "model_module": "@jupyter-widgets/controls",
      "model_module_version": "1.5.0",
      "model_name": "DescriptionStyleModel",
      "state": {
       "_model_module": "@jupyter-widgets/controls",
       "_model_module_version": "1.5.0",
       "_model_name": "DescriptionStyleModel",
       "_view_count": null,
       "_view_module": "@jupyter-widgets/base",
       "_view_module_version": "1.2.0",
       "_view_name": "StyleView",
       "description_width": ""
      }
     },
     "aa8e51f6354148d2ae0bfce285e50a6f": {
      "model_module": "@jupyter-widgets/controls",
      "model_module_version": "1.5.0",
      "model_name": "DescriptionStyleModel",
      "state": {
       "_model_module": "@jupyter-widgets/controls",
       "_model_module_version": "1.5.0",
       "_model_name": "DescriptionStyleModel",
       "_view_count": null,
       "_view_module": "@jupyter-widgets/base",
       "_view_module_version": "1.2.0",
       "_view_name": "StyleView",
       "description_width": ""
      }
     },
     "acc76b01cd6244418f260ebef2448032": {
      "model_module": "@jupyter-widgets/base",
      "model_module_version": "1.2.0",
      "model_name": "LayoutModel",
      "state": {
       "_model_module": "@jupyter-widgets/base",
       "_model_module_version": "1.2.0",
       "_model_name": "LayoutModel",
       "_view_count": null,
       "_view_module": "@jupyter-widgets/base",
       "_view_module_version": "1.2.0",
       "_view_name": "LayoutView",
       "align_content": null,
       "align_items": null,
       "align_self": null,
       "border": null,
       "bottom": null,
       "display": null,
       "flex": null,
       "flex_flow": null,
       "grid_area": null,
       "grid_auto_columns": null,
       "grid_auto_flow": null,
       "grid_auto_rows": null,
       "grid_column": null,
       "grid_gap": null,
       "grid_row": null,
       "grid_template_areas": null,
       "grid_template_columns": null,
       "grid_template_rows": null,
       "height": null,
       "justify_content": null,
       "justify_items": null,
       "left": null,
       "margin": null,
       "max_height": null,
       "max_width": null,
       "min_height": null,
       "min_width": null,
       "object_fit": null,
       "object_position": null,
       "order": null,
       "overflow": null,
       "overflow_x": null,
       "overflow_y": null,
       "padding": null,
       "right": null,
       "top": null,
       "visibility": null,
       "width": null
      }
     },
     "b7da598130e449eea0df39b0d45fa640": {
      "model_module": "@jupyter-widgets/base",
      "model_module_version": "1.2.0",
      "model_name": "LayoutModel",
      "state": {
       "_model_module": "@jupyter-widgets/base",
       "_model_module_version": "1.2.0",
       "_model_name": "LayoutModel",
       "_view_count": null,
       "_view_module": "@jupyter-widgets/base",
       "_view_module_version": "1.2.0",
       "_view_name": "LayoutView",
       "align_content": null,
       "align_items": null,
       "align_self": null,
       "border": null,
       "bottom": null,
       "display": null,
       "flex": null,
       "flex_flow": null,
       "grid_area": null,
       "grid_auto_columns": null,
       "grid_auto_flow": null,
       "grid_auto_rows": null,
       "grid_column": null,
       "grid_gap": null,
       "grid_row": null,
       "grid_template_areas": null,
       "grid_template_columns": null,
       "grid_template_rows": null,
       "height": null,
       "justify_content": null,
       "justify_items": null,
       "left": null,
       "margin": null,
       "max_height": null,
       "max_width": null,
       "min_height": null,
       "min_width": null,
       "object_fit": null,
       "object_position": null,
       "order": null,
       "overflow": null,
       "overflow_x": null,
       "overflow_y": null,
       "padding": null,
       "right": null,
       "top": null,
       "visibility": null,
       "width": null
      }
     },
     "c3589b43044b4dbaa487d5acb2e9d5b1": {
      "model_module": "@jupyter-widgets/base",
      "model_module_version": "1.2.0",
      "model_name": "LayoutModel",
      "state": {
       "_model_module": "@jupyter-widgets/base",
       "_model_module_version": "1.2.0",
       "_model_name": "LayoutModel",
       "_view_count": null,
       "_view_module": "@jupyter-widgets/base",
       "_view_module_version": "1.2.0",
       "_view_name": "LayoutView",
       "align_content": null,
       "align_items": null,
       "align_self": null,
       "border": null,
       "bottom": null,
       "display": null,
       "flex": null,
       "flex_flow": null,
       "grid_area": null,
       "grid_auto_columns": null,
       "grid_auto_flow": null,
       "grid_auto_rows": null,
       "grid_column": null,
       "grid_gap": null,
       "grid_row": null,
       "grid_template_areas": null,
       "grid_template_columns": null,
       "grid_template_rows": null,
       "height": null,
       "justify_content": null,
       "justify_items": null,
       "left": null,
       "margin": null,
       "max_height": null,
       "max_width": null,
       "min_height": null,
       "min_width": null,
       "object_fit": null,
       "object_position": null,
       "order": null,
       "overflow": null,
       "overflow_x": null,
       "overflow_y": null,
       "padding": null,
       "right": null,
       "top": null,
       "visibility": null,
       "width": null
      }
     },
     "c509d517f83641b0a8b755dd38e7f2aa": {
      "model_module": "@jupyter-widgets/controls",
      "model_module_version": "1.5.0",
      "model_name": "ProgressStyleModel",
      "state": {
       "_model_module": "@jupyter-widgets/controls",
       "_model_module_version": "1.5.0",
       "_model_name": "ProgressStyleModel",
       "_view_count": null,
       "_view_module": "@jupyter-widgets/base",
       "_view_module_version": "1.2.0",
       "_view_name": "StyleView",
       "bar_color": null,
       "description_width": ""
      }
     },
     "ccce2262dae1444e99ee3ca566f00dcf": {
      "model_module": "@jupyter-widgets/controls",
      "model_module_version": "1.5.0",
      "model_name": "DescriptionStyleModel",
      "state": {
       "_model_module": "@jupyter-widgets/controls",
       "_model_module_version": "1.5.0",
       "_model_name": "DescriptionStyleModel",
       "_view_count": null,
       "_view_module": "@jupyter-widgets/base",
       "_view_module_version": "1.2.0",
       "_view_name": "StyleView",
       "description_width": ""
      }
     },
     "cde18099b54c4f86bf4c78dbbf4f62e9": {
      "model_module": "@jupyter-widgets/controls",
      "model_module_version": "1.5.0",
      "model_name": "HTMLModel",
      "state": {
       "_dom_classes": [],
       "_model_module": "@jupyter-widgets/controls",
       "_model_module_version": "1.5.0",
       "_model_name": "HTMLModel",
       "_view_count": null,
       "_view_module": "@jupyter-widgets/controls",
       "_view_module_version": "1.5.0",
       "_view_name": "HTMLView",
       "description": "",
       "description_tooltip": null,
       "layout": "IPY_MODEL_e8c815cd765f4b82a1a9a7b648fca61c",
       "placeholder": "​",
       "style": "IPY_MODEL_aa8e51f6354148d2ae0bfce285e50a6f",
       "value": " 1000/1000 [01:40&lt;00:00,  9.94it/s]"
      }
     },
     "cf93f9fb6d7d4217bdb1ebf75e868a3e": {
      "model_module": "@jupyter-widgets/base",
      "model_module_version": "1.2.0",
      "model_name": "LayoutModel",
      "state": {
       "_model_module": "@jupyter-widgets/base",
       "_model_module_version": "1.2.0",
       "_model_name": "LayoutModel",
       "_view_count": null,
       "_view_module": "@jupyter-widgets/base",
       "_view_module_version": "1.2.0",
       "_view_name": "LayoutView",
       "align_content": null,
       "align_items": null,
       "align_self": null,
       "border": null,
       "bottom": null,
       "display": null,
       "flex": null,
       "flex_flow": null,
       "grid_area": null,
       "grid_auto_columns": null,
       "grid_auto_flow": null,
       "grid_auto_rows": null,
       "grid_column": null,
       "grid_gap": null,
       "grid_row": null,
       "grid_template_areas": null,
       "grid_template_columns": null,
       "grid_template_rows": null,
       "height": null,
       "justify_content": null,
       "justify_items": null,
       "left": null,
       "margin": null,
       "max_height": null,
       "max_width": null,
       "min_height": null,
       "min_width": null,
       "object_fit": null,
       "object_position": null,
       "order": null,
       "overflow": null,
       "overflow_x": null,
       "overflow_y": null,
       "padding": null,
       "right": null,
       "top": null,
       "visibility": null,
       "width": null
      }
     },
     "d87d3692a84144808f47b73086fec707": {
      "model_module": "@jupyter-widgets/controls",
      "model_module_version": "1.5.0",
      "model_name": "FloatProgressModel",
      "state": {
       "_dom_classes": [],
       "_model_module": "@jupyter-widgets/controls",
       "_model_module_version": "1.5.0",
       "_model_name": "FloatProgressModel",
       "_view_count": null,
       "_view_module": "@jupyter-widgets/controls",
       "_view_module_version": "1.5.0",
       "_view_name": "ProgressView",
       "bar_style": "success",
       "description": "",
       "description_tooltip": null,
       "layout": "IPY_MODEL_f08fdd7fbcde43c5bace19beace57fbc",
       "max": 1000.0,
       "min": 0.0,
       "orientation": "horizontal",
       "style": "IPY_MODEL_098ac87f5e1742ac9a06ef174e64238b",
       "value": 1000.0
      }
     },
     "dadbdc689ba64f4b9f4f46ea5c53da2a": {
      "model_module": "@jupyter-widgets/controls",
      "model_module_version": "1.5.0",
      "model_name": "HBoxModel",
      "state": {
       "_dom_classes": [],
       "_model_module": "@jupyter-widgets/controls",
       "_model_module_version": "1.5.0",
       "_model_name": "HBoxModel",
       "_view_count": null,
       "_view_module": "@jupyter-widgets/controls",
       "_view_module_version": "1.5.0",
       "_view_name": "HBoxView",
       "box_style": "",
       "children": [
        "IPY_MODEL_de4084c223984c539d7fe348ad0c3e0e",
        "IPY_MODEL_90e4725c899e4e64a1e1ebfae233d695",
        "IPY_MODEL_787be34178164755a80ec590caa99971"
       ],
       "layout": "IPY_MODEL_6f3a9b2688e647bdadd269e916d915ca"
      }
     },
     "de4084c223984c539d7fe348ad0c3e0e": {
      "model_module": "@jupyter-widgets/controls",
      "model_module_version": "1.5.0",
      "model_name": "HTMLModel",
      "state": {
       "_dom_classes": [],
       "_model_module": "@jupyter-widgets/controls",
       "_model_module_version": "1.5.0",
       "_model_name": "HTMLModel",
       "_view_count": null,
       "_view_module": "@jupyter-widgets/controls",
       "_view_module_version": "1.5.0",
       "_view_name": "HTMLView",
       "description": "",
       "description_tooltip": null,
       "layout": "IPY_MODEL_cf93f9fb6d7d4217bdb1ebf75e868a3e",
       "placeholder": "​",
       "style": "IPY_MODEL_fd0a36c908e3494e970b3ef685b518f4",
       "value": "100%"
      }
     },
     "e7c93057370545acb969cc2451e7bcea": {
      "model_module": "@jupyter-widgets/base",
      "model_module_version": "1.2.0",
      "model_name": "LayoutModel",
      "state": {
       "_model_module": "@jupyter-widgets/base",
       "_model_module_version": "1.2.0",
       "_model_name": "LayoutModel",
       "_view_count": null,
       "_view_module": "@jupyter-widgets/base",
       "_view_module_version": "1.2.0",
       "_view_name": "LayoutView",
       "align_content": null,
       "align_items": null,
       "align_self": null,
       "border": null,
       "bottom": null,
       "display": null,
       "flex": null,
       "flex_flow": null,
       "grid_area": null,
       "grid_auto_columns": null,
       "grid_auto_flow": null,
       "grid_auto_rows": null,
       "grid_column": null,
       "grid_gap": null,
       "grid_row": null,
       "grid_template_areas": null,
       "grid_template_columns": null,
       "grid_template_rows": null,
       "height": null,
       "justify_content": null,
       "justify_items": null,
       "left": null,
       "margin": null,
       "max_height": null,
       "max_width": null,
       "min_height": null,
       "min_width": null,
       "object_fit": null,
       "object_position": null,
       "order": null,
       "overflow": null,
       "overflow_x": null,
       "overflow_y": null,
       "padding": null,
       "right": null,
       "top": null,
       "visibility": null,
       "width": null
      }
     },
     "e8c815cd765f4b82a1a9a7b648fca61c": {
      "model_module": "@jupyter-widgets/base",
      "model_module_version": "1.2.0",
      "model_name": "LayoutModel",
      "state": {
       "_model_module": "@jupyter-widgets/base",
       "_model_module_version": "1.2.0",
       "_model_name": "LayoutModel",
       "_view_count": null,
       "_view_module": "@jupyter-widgets/base",
       "_view_module_version": "1.2.0",
       "_view_name": "LayoutView",
       "align_content": null,
       "align_items": null,
       "align_self": null,
       "border": null,
       "bottom": null,
       "display": null,
       "flex": null,
       "flex_flow": null,
       "grid_area": null,
       "grid_auto_columns": null,
       "grid_auto_flow": null,
       "grid_auto_rows": null,
       "grid_column": null,
       "grid_gap": null,
       "grid_row": null,
       "grid_template_areas": null,
       "grid_template_columns": null,
       "grid_template_rows": null,
       "height": null,
       "justify_content": null,
       "justify_items": null,
       "left": null,
       "margin": null,
       "max_height": null,
       "max_width": null,
       "min_height": null,
       "min_width": null,
       "object_fit": null,
       "object_position": null,
       "order": null,
       "overflow": null,
       "overflow_x": null,
       "overflow_y": null,
       "padding": null,
       "right": null,
       "top": null,
       "visibility": null,
       "width": null
      }
     },
     "f08fdd7fbcde43c5bace19beace57fbc": {
      "model_module": "@jupyter-widgets/base",
      "model_module_version": "1.2.0",
      "model_name": "LayoutModel",
      "state": {
       "_model_module": "@jupyter-widgets/base",
       "_model_module_version": "1.2.0",
       "_model_name": "LayoutModel",
       "_view_count": null,
       "_view_module": "@jupyter-widgets/base",
       "_view_module_version": "1.2.0",
       "_view_name": "LayoutView",
       "align_content": null,
       "align_items": null,
       "align_self": null,
       "border": null,
       "bottom": null,
       "display": null,
       "flex": null,
       "flex_flow": null,
       "grid_area": null,
       "grid_auto_columns": null,
       "grid_auto_flow": null,
       "grid_auto_rows": null,
       "grid_column": null,
       "grid_gap": null,
       "grid_row": null,
       "grid_template_areas": null,
       "grid_template_columns": null,
       "grid_template_rows": null,
       "height": null,
       "justify_content": null,
       "justify_items": null,
       "left": null,
       "margin": null,
       "max_height": null,
       "max_width": null,
       "min_height": null,
       "min_width": null,
       "object_fit": null,
       "object_position": null,
       "order": null,
       "overflow": null,
       "overflow_x": null,
       "overflow_y": null,
       "padding": null,
       "right": null,
       "top": null,
       "visibility": null,
       "width": null
      }
     },
     "f2978b9194cf4b6597481e214924bfb8": {
      "model_module": "@jupyter-widgets/base",
      "model_module_version": "1.2.0",
      "model_name": "LayoutModel",
      "state": {
       "_model_module": "@jupyter-widgets/base",
       "_model_module_version": "1.2.0",
       "_model_name": "LayoutModel",
       "_view_count": null,
       "_view_module": "@jupyter-widgets/base",
       "_view_module_version": "1.2.0",
       "_view_name": "LayoutView",
       "align_content": null,
       "align_items": null,
       "align_self": null,
       "border": null,
       "bottom": null,
       "display": null,
       "flex": null,
       "flex_flow": null,
       "grid_area": null,
       "grid_auto_columns": null,
       "grid_auto_flow": null,
       "grid_auto_rows": null,
       "grid_column": null,
       "grid_gap": null,
       "grid_row": null,
       "grid_template_areas": null,
       "grid_template_columns": null,
       "grid_template_rows": null,
       "height": null,
       "justify_content": null,
       "justify_items": null,
       "left": null,
       "margin": null,
       "max_height": null,
       "max_width": null,
       "min_height": null,
       "min_width": null,
       "object_fit": null,
       "object_position": null,
       "order": null,
       "overflow": null,
       "overflow_x": null,
       "overflow_y": null,
       "padding": null,
       "right": null,
       "top": null,
       "visibility": null,
       "width": null
      }
     },
     "fd0a36c908e3494e970b3ef685b518f4": {
      "model_module": "@jupyter-widgets/controls",
      "model_module_version": "1.5.0",
      "model_name": "DescriptionStyleModel",
      "state": {
       "_model_module": "@jupyter-widgets/controls",
       "_model_module_version": "1.5.0",
       "_model_name": "DescriptionStyleModel",
       "_view_count": null,
       "_view_module": "@jupyter-widgets/base",
       "_view_module_version": "1.2.0",
       "_view_name": "StyleView",
       "description_width": ""
      }
     }
    },
    "version_major": 2,
    "version_minor": 0
   }
  }
 },
 "nbformat": 4,
 "nbformat_minor": 5
}
